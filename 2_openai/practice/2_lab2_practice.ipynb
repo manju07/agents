{
 "cells": [
  {
   "cell_type": "code",
   "execution_count": 19,
   "id": "3ee30d5a",
   "metadata": {},
   "outputs": [],
   "source": [
    "from dotenv import load_dotenv\n",
    "import os\n",
    "from agents import Agent\n",
    "from agents import Runner\n",
    "from agents import trace\n",
    "from IPython.display import Markdown, display\n",
    "import asyncio"
   ]
  },
  {
   "cell_type": "code",
   "execution_count": 22,
   "id": "7bef29d4",
   "metadata": {},
   "outputs": [],
   "source": [
    "sales_agent1 = Agent(\n",
    "    name=\"Professional Sales Agent\",\n",
    "    instructions=\"You are a Professional sales agent that sells a product to a customer. Write an email to the customer to sell the product.\",\n",
    "    model=\"gpt-4o-mini\"\n",
    "\n",
    ")\n",
    "\n",
    "sales_agent2 = Agent(  \n",
    "    name=\"Business Sales Agent\",\n",
    "    instructions=\"You are a Business sales agent that sells a product to a customer. Write an email to the customer to sell the product.\",\n",
    "    model=\"gpt-4o-mini\"\n",
    ")"
   ]
  },
  {
   "cell_type": "code",
   "execution_count": 25,
   "id": "ec943a5b",
   "metadata": {},
   "outputs": [
    {
     "name": "stdout",
     "output_type": "stream",
     "text": [
      "Subject: Unlock Exciting Benefits with Our Exclusive Product!\n",
      "\n",
      "Dear [Customer's Name],\n",
      "\n",
      "I hope this email finds you well! I wanted to take a moment to introduce you to an incredible product that could greatly enhance your experience and meet your needs.\n",
      "\n",
      "Introducing [Product Name] – a game-changer designed specifically for [briefly describe the target user or pain point it addresses]. With its unique features such as [list a few key features or benefits], you can [explain how it solves a problem or improves the customer’s situation].\n",
      "\n",
      "Our customers have reported [include a brief testimonial or statistic that highlights success], showcasing the value and impact of [Product Name]. Imagine what it could do for you!\n",
      "\n",
      "As a special offer, I’d love to extend a [mention any discounts, promotions, or limited-time offers] to you as a token of appreciation for considering [Product Name]. \n",
      "\n",
      "If you're interested or have any questions, please don't hesitate to reach out. I’d be more than happy to provide additional information or set up a quick call to discuss how [Product Name] can best serve you.\n",
      "\n",
      "Thank you for your time, and I look forward to helping you elevate your experience with [Product Name]!\n",
      "\n",
      "Best regards,\n",
      "\n",
      "[Your Name]  \n",
      "[Your Job Title]  \n",
      "[Your Company]  \n",
      "[Your Contact Information]  \n",
      "[Company Website]  \n",
      "Subject: Unlock Your Business Potential with Our Game-Changing Product!\n",
      "\n",
      "Dear [Customer's Name],\n",
      "\n",
      "I hope this email finds you well! I wanted to take a moment to introduce you to an innovative solution that has the potential to transform your business operations and drive growth: [Product Name].\n",
      "\n",
      "In today’s competitive landscape, it’s essential to stay ahead of the curve. [Product Name] offers [briefly mention key features, e.g., enhanced efficiency, cost savings, or increased productivity], making it the perfect choice for businesses like yours. \n",
      "\n",
      "Here are a few benefits that set us apart:\n",
      "\n",
      "1. **[Benefit 1]**: [Brief explanation]\n",
      "2. **[Benefit 2]**: [Brief explanation]\n",
      "3. **[Benefit 3]**: [Brief explanation]\n",
      "\n",
      "We understand that investing in new solutions can be daunting, which is why we offer a [mention any guarantees, free trials, or demonstrations]. Many of our customers have seen a significant return on their investment within just [insert time frame].\n",
      "\n",
      "To learn more about how [Product Name] can specifically benefit your business, I’d love to schedule a quick call or meeting at your convenience. Please let me know a time that works for you, or feel free to reach out directly at [Your Phone Number].\n",
      "\n",
      "Thank you for considering [Product Name]. I look forward to the opportunity to assist you in achieving your business goals!\n",
      "\n",
      "Best regards,\n",
      "\n",
      "[Your Name]  \n",
      "[Your Position]  \n",
      "[Your Company Name]  \n",
      "[Your Phone Number]  \n",
      "[Your Email Address]  \n",
      "[Your Company Website]  \n"
     ]
    }
   ],
   "source": [
    "with trace(\"Run all sales agents\"):\n",
    "    results = await asyncio.gather(\n",
    "        Runner.run(sales_agent1, input=\"Write an email to the customer to sell the product.\"),\n",
    "        Runner.run(sales_agent2, input=\"Write an email to the customer to sell the product.\")\n",
    "    )\n",
    "    for result in results:\n",
    "        print(result.final_output)\n",
    "        \n"
   ]
  }
 ],
 "metadata": {
  "kernelspec": {
   "display_name": ".venv",
   "language": "python",
   "name": "python3"
  },
  "language_info": {
   "codemirror_mode": {
    "name": "ipython",
    "version": 3
   },
   "file_extension": ".py",
   "mimetype": "text/x-python",
   "name": "python",
   "nbconvert_exporter": "python",
   "pygments_lexer": "ipython3",
   "version": "3.12.10"
  }
 },
 "nbformat": 4,
 "nbformat_minor": 5
}
