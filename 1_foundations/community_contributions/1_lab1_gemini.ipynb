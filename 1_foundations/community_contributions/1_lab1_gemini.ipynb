{
 "cells": [
  {
   "cell_type": "markdown",
   "metadata": {},
   "source": [
    "# Welcome to the start of your adventure in Agentic AI"
   ]
  },
  {
   "cell_type": "markdown",
   "metadata": {},
   "source": [
    "<table style=\"margin: 0; text-align: left; width:100%\">\n",
    "    <tr>\n",
    "        <td style=\"width: 150px; height: 150px; vertical-align: middle;\">\n",
    "            <img src=\"../../assets/stop.png\" width=\"150\" height=\"150\" style=\"display: block;\" />\n",
    "        </td>\n",
    "        <td>\n",
    "            <h2 style=\"color:#ff7800;\">Are you ready for action??</h2>\n",
    "            <span style=\"color:#ff7800;\">Have you completed all the setup steps in the <a href=\"../setup/\">setup</a> folder?<br/>\n",
    "            Have you checked out the guides in the <a href=\"../guides/01_intro.ipynb\">guides</a> folder?<br/>\n",
    "            Well in that case, you're ready!!\n",
    "            </span>\n",
    "        </td>\n",
    "    </tr>\n",
    "</table>"
   ]
  },
  {
   "cell_type": "markdown",
   "metadata": {},
   "source": [
    "<table style=\"margin: 0; text-align: left; width:100%\">\n",
    "    <tr>\n",
    "        <td style=\"width: 150px; height: 150px; vertical-align: middle;\">\n",
    "            <img src=\"../../assets/tools.png\" width=\"150\" height=\"150\" style=\"display: block;\" />\n",
    "        </td>\n",
    "        <td>\n",
    "            <h2 style=\"color:#00bfff;\">Treat these labs as a resource</h2>\n",
    "            <span style=\"color:#00bfff;\">I push updates to the code regularly. When people ask questions or have problems, I incorporate it in the code, adding more examples or improved commentary. As a result, you'll notice that the code below isn't identical to the videos. Everything from the videos is here; but in addition, I've added more steps and better explanations. Consider this like an interactive book that accompanies the lectures.\n",
    "            </span>\n",
    "        </td>\n",
    "    </tr>\n",
    "</table>"
   ]
  },
  {
   "cell_type": "markdown",
   "metadata": {},
   "source": [
    "### And please do remember to contact me if I can help\n",
    "\n",
    "And I love to connect: https://www.linkedin.com/in/eddonner/\n",
    "\n",
    "\n",
    "### New to Notebooks like this one? Head over to the guides folder!\n",
    "\n",
    "Just to check you've already added the Python and Jupyter extensions to Cursor, if not already installed:\n",
    "- Open extensions (View >> extensions)\n",
    "- Search for python, and when the results show, click on the ms-python one, and Install it if not already installed\n",
    "- Search for jupyter, and when the results show, click on the Microsoft one, and Install it if not already installed  \n",
    "Then View >> Explorer to bring back the File Explorer.\n",
    "\n",
    "And then:\n",
    "1. Run `uv add google-genai` to install the Google Gemini library. (If you had started your environment before running this command, you will need to restart your environment in the Jupyter notebook.)\n",
    "2. Click where it says \"Select Kernel\" near the top right, and select the option called `.venv (Python 3.12.9)` or similar, which should be the first choice or the most prominent choice. You may need to choose \"Python Environments\" first.\n",
    "3. Click in each \"cell\" below, starting with the cell immediately below this text, and press Shift+Enter to run\n",
    "4. Enjoy!\n",
    "\n",
    "After you click \"Select Kernel\", if there is no option like `.venv (Python 3.12.9)` then please do the following:  \n",
    "1. From the Cursor menu, choose Settings >> VSCode Settings (NOTE: be sure to select `VSCode Settings` not `Cursor Settings`)  \n",
    "2. In the Settings search bar, type \"venv\"  \n",
    "3. In the field \"Path to folder with a list of Virtual Environments\" put the path to the project root, like C:\\Users\\username\\projects\\agents (on a Windows PC) or /Users/username/projects/agents (on Mac or Linux).  \n",
    "And then try again.\n",
    "\n",
    "Having problems with missing Python versions in that list? Have you ever used Anaconda before? It might be interferring. Quit Cursor, bring up a new command line, and make sure that your Anaconda environment is deactivated:    \n",
    "`conda deactivate`  \n",
    "And if you still have any problems with conda and python versions, it's possible that you will need to run this too:  \n",
    "`conda config --set auto_activate_base false`  \n",
    "and then from within the Agents directory, you should be able to run `uv python list` and see the Python 3.12 version."
   ]
  },
  {
   "cell_type": "code",
   "execution_count": 50,
   "metadata": {},
   "outputs": [],
   "source": [
    "# First let's do an import\n",
    "from dotenv import load_dotenv\n"
   ]
  },
  {
   "cell_type": "code",
   "execution_count": 49,
   "metadata": {},
   "outputs": [
    {
     "data": {
      "text/plain": [
       "True"
      ]
     },
     "execution_count": 49,
     "metadata": {},
     "output_type": "execute_result"
    }
   ],
   "source": [
    "# Next it's time to load the API keys into environment variables\n",
    "\n",
    "load_dotenv(override=True)"
   ]
  },
  {
   "cell_type": "code",
   "execution_count": 51,
   "metadata": {},
   "outputs": [
    {
     "name": "stdout",
     "output_type": "stream",
     "text": [
      "Gemini API Key exists and begins AIzaSyDq\n"
     ]
    }
   ],
   "source": [
    "# Check the keys\n",
    "\n",
    "import os\n",
    "gemini_api_key = os.getenv('GEMINI_API_KEY')\n",
    "\n",
    "\n",
    "if gemini_api_key:\n",
    "    print(f\"Gemini API Key exists and begins {gemini_api_key[:8]}\")\n",
    "else:\n",
    "    print(\"Gemini API Key not set - please head to the troubleshooting guide in the guides folder\")\n",
    "    \n"
   ]
  },
  {
   "cell_type": "code",
   "execution_count": 52,
   "metadata": {},
   "outputs": [],
   "source": [
    "# And now - the all important import statement\n",
    "# If you get an import error - head over to troubleshooting guide\n",
    "\n",
    "from google import genai"
   ]
  },
  {
   "cell_type": "code",
   "execution_count": 53,
   "metadata": {},
   "outputs": [],
   "source": [
    "# And now we'll create an instance of the Gemini GenAI class\n",
    "# If you're not sure what it means to create an instance of a class - head over to the guides folder!\n",
    "# If you get a NameError - head over to the guides folder to learn about NameErrors\n",
    "\n",
    "client = genai.Client(api_key=gemini_api_key)"
   ]
  },
  {
   "cell_type": "code",
   "execution_count": 47,
   "metadata": {},
   "outputs": [],
   "source": [
    "# Create a list of messages in the familiar Gemini GenAI format\n",
    "\n",
    "messages = [\"What is 2+3?\"]"
   ]
  },
  {
   "cell_type": "code",
   "execution_count": 55,
   "metadata": {},
   "outputs": [
    {
     "name": "stdout",
     "output_type": "stream",
     "text": [
      "2 + 3 = 5\n",
      "\n"
     ]
    }
   ],
   "source": [
    "# And now call it! Any problems, head to the troubleshooting guide\n",
    "\n",
    "response = client.models.generate_content(\n",
    "    model=\"gemini-1.5-flash\",\n",
    "    contents=messages\n",
    ")\n",
    "\n",
    "print(response.text)\n"
   ]
  },
  {
   "cell_type": "code",
   "execution_count": 56,
   "metadata": {},
   "outputs": [
    {
     "name": "stdout",
     "output_type": "stream",
     "text": [
      "A meticulously crafted, self-supporting, three-dimensional structure exists, composed entirely of identical, regular polygons. No polygons overlap, and every edge is shared by exactly two polygons. Given that each vertex of the structure is the intersection of *n* polygons, and each polygon has *m* sides, prove that there are only five possible combinations of *n* and *m*, and derive those combinations.\n",
      "\n"
     ]
    }
   ],
   "source": [
    "\n",
    "# Lets no create a challenging question\n",
    "question = \"Please propose a hard, challenging question to assess someone's IQ. Respond only with the question.\"\n",
    "\n",
    "# Ask the the model\n",
    "response = client.models.generate_content(\n",
    "    model=\"gemini-2.0-flash\", contents=question\n",
    ")\n",
    "\n",
    "question = response.text\n",
    "\n",
    "print(question)\n"
   ]
  },
  {
   "cell_type": "code",
   "execution_count": 57,
   "metadata": {},
   "outputs": [
    {
     "name": "stdout",
     "output_type": "stream",
     "text": [
      "Okay, let's break down this problem and derive the possible combinations of *n* and *m* that satisfy the conditions.\n",
      "\n",
      "**Understanding the Problem**\n",
      "\n",
      "We are dealing with a structure made of regular polygons arranged such that:\n",
      "\n",
      "*   **Identical Regular Polygons:** All polygons are congruent and each has *m* sides.\n",
      "*   **Tiling/Tessellation:** No gaps or overlaps.\n",
      "*   **Shared Edges:** Every edge is part of exactly two polygons.\n",
      "*   **Vertex Intersection:** Each vertex is formed by the meeting of *n* polygons.\n",
      "*   **Self-Supporting:** The structure must be 3-dimensional.\n",
      "\n",
      "**Deriving the Equation**\n",
      "\n",
      "The key to solving this problem lies in relating the angles around a vertex. Since the structure is 3-dimensional, the sum of the angles meeting at any vertex must be *less than* 360 degrees (2π radians).  If the sum equals 360 degrees, we would have a planar tiling, not a 3-dimensional structure.  If it exceeds 360, the structure is impossible to construct because the faces overlap.\n",
      "\n",
      "1.  **Interior Angle of a Regular Polygon:** The interior angle of a regular polygon with *m* sides is given by:\n",
      "\n",
      "    ```\n",
      "    Angle = (m - 2) * 180 / m  degrees = (m-2) * π / m radians\n",
      "    ```\n",
      "\n",
      "2.  **Sum of Angles at a Vertex:** At each vertex, *n* polygons meet, so the sum of their interior angles must be less than 360 degrees:\n",
      "\n",
      "    ```\n",
      "    n * (m - 2) * 180 / m  < 360\n",
      "    ```\n",
      "\n",
      "    or\n",
      "\n",
      "    ```\n",
      "    n * (m - 2) * π / m  < 2π\n",
      "    ```\n",
      "\n",
      "3.  **Simplifying the Inequality:** Dividing both sides by 180 (or π) and simplifying, we get:\n",
      "\n",
      "    ```\n",
      "    n * (m - 2) / m < 2\n",
      "    n * (m - 2) < 2m\n",
      "    nm - 2n < 2m\n",
      "    nm - 2m - 2n < 0\n",
      "    nm - 2m - 2n + 4 < 4\n",
      "    (n - 2) * (m - 2) < 4\n",
      "    ```\n",
      "\n",
      "**Analyzing the Inequality**\n",
      "\n",
      "We know that *n* and *m* must be integers, and *n* ≥ 3 (at least 3 polygons must meet at a vertex to create a 3-dimensional structure) and *m* ≥ 3 (a polygon must have at least 3 sides).\n",
      "\n",
      "Now, let's analyze the inequality `(n - 2) * (m - 2) < 4` to find possible integer solutions for *n* and *m*:\n",
      "\n",
      "*   **Case 1: n = 3**\n",
      "\n",
      "    ```\n",
      "    (3 - 2) * (m - 2) < 4\n",
      "    m - 2 < 4\n",
      "    m < 6\n",
      "    ```\n",
      "\n",
      "    Since m ≥ 3, the possible values for m are 3, 4, and 5. This gives us the solutions (n, m) = (3, 3), (3, 4), (3, 5).\n",
      "\n",
      "*   **Case 2: n = 4**\n",
      "\n",
      "    ```\n",
      "    (4 - 2) * (m - 2) < 4\n",
      "    2 * (m - 2) < 4\n",
      "    m - 2 < 2\n",
      "    m < 4\n",
      "    ```\n",
      "\n",
      "    Since m ≥ 3, the only possible value for m is 3.  This gives us the solution (n, m) = (4, 3).\n",
      "\n",
      "*   **Case 3: n = 5**\n",
      "\n",
      "    ```\n",
      "    (5 - 2) * (m - 2) < 4\n",
      "    3 * (m - 2) < 4\n",
      "    m - 2 < 4/3\n",
      "    m < 3 + 1/3\n",
      "    ```\n",
      "\n",
      "    Since m ≥ 3, the only possible value for m is 3.  This gives us the solution (n, m) = (5, 3).\n",
      "\n",
      "*   **Case 4: n > 5**\n",
      "\n",
      "    If n > 5, then (n - 2) > 3. In order for (n-2)(m-2) to be less than 4, (m-2) must be less than 4/3. The only integer value of m that satisfies this is m = 3.\n",
      "    However, with m=3, (n-2)(m-2) = (n-2)(1) = n-2.\n",
      "    Therefore, n-2 < 4 => n < 6.\n",
      "    This contradicts the assumption that n > 5, so there are no solutions for n > 5.\n",
      "\n",
      "*   **Case 5: m > 5**\n",
      "\n",
      "    If m > 5, then (m - 2) > 3. In order for (n-2)(m-2) to be less than 4, (n-2) must be less than 4/3. The only integer value of n that satisfies this is n = 3.  This returns us to our case for n=3.\n",
      "\n",
      "**The Five Solutions**\n",
      "\n",
      "Therefore, the only possible combinations of *n* and *m* are:\n",
      "\n",
      "1.  (3, 3) - Tetrahedra (4 faces)\n",
      "2.  (3, 4) - Cubes (6 faces)\n",
      "3.  (3, 5) - Dodecahedra (12 faces)\n",
      "4.  (4, 3) - Octahedra (8 faces)\n",
      "5.  (5, 3) - Icosahedra (20 faces)\n",
      "\n",
      "These correspond to the five Platonic solids. They are the only possible 3D shapes which can be made from identical regular polygons with the given criteria.\n",
      "\n"
     ]
    }
   ],
   "source": [
    "# Ask the models generated question to the model\n",
    "response = client.models.generate_content(\n",
    "    model=\"gemini-2.0-flash\", contents=question\n",
    ")\n",
    "\n",
    "# Extract the answer from the response\n",
    "answer = response.text\n",
    "\n",
    "# Debug log the answer\n",
    "print(answer)\n"
   ]
  },
  {
   "cell_type": "code",
   "execution_count": 40,
   "metadata": {},
   "outputs": [
    {
     "data": {
      "text/markdown": [
       "Okay, let's analyze this ant's journey with rigor.\n",
       "\n",
       "**Understanding the Problem**\n",
       "\n",
       "The key to this problem lies in understanding what \"always moving directly south\" means on a sphere and how that translates to the ant's path in this idealized scenario.  The ant is constrained to move locally in the direction of maximum decrease in \"latitude\" where the North Pole is considered 90 degrees north and the South Pole is 90 degrees south.\n",
       "\n",
       "**The Geometry and the Ant's Path**\n",
       "\n",
       "1. **The Plane is a Tangent Plane:** The horizontal plane that the sphere rests on is a tangent plane.  Specifically, it's tangent to the sphere at the South Pole (the point diametrically opposite the North Pole).\n",
       "\n",
       "2. **Projection and Distortion:** The ant is moving on the surface of the sphere, but we are observing its movement projected onto the tangent plane. This projection is a form of central projection.  This projection *distorts* distances, angles, and shapes as you move away from the point of tangency. The distortion increases as you get farther away from the South Pole.\n",
       "\n",
       "3. **The Loxodrome/Rhumb Line (on the sphere):** The ant's path on the sphere is a **loxodrome**, also known as a **rhumb line**. A loxodrome is a curve on the sphere that intersects all meridians at the same angle. In our case, since the ant is *always* moving south, it's intersecting all meridians at an angle of *0 degrees* with respect to the meridians.\n",
       "\n",
       "4. **Spiraling Towards the Pole (on the sphere):** Because the ant is always moving south, it spirals around and around the South Pole.  Each loop brings it closer and closer to the South Pole, but it never actually reaches it in a finite amount of time (or distance traveled on the sphere).\n",
       "\n",
       "5. **The Key Insight: Infinite Spiraling and Finite Distance:** Even though the ant spirals infinitely around the South Pole *on the sphere*, the total distance it travels on the sphere is *finite*.  This is because with each loop, it covers less and less \"latitude\". This is analogous to the sum of an infinite geometric series converging to a finite value.\n",
       "\n",
       "6. **The Projected Path on the Plane:** Now, consider the ant's path *projected* onto the tangent plane. Since the path is a loxodrome on the sphere spiraling toward the South Pole, its projection onto the tangent plane becomes a **spiral that also converges on the point of tangency (the South Pole)**.  The nature of this spiral in the plane requires a bit more deduction.\n",
       "\n",
       "7. **The Plane Path is not a Logarithmic Spiral**\n",
       "*Consider the spherical coordinates (r,θ, φ) in standard order where the origin of our coordinate system is the center of the sphere, r is the radius of the sphere, φ is the azimuthal angle ranging from 0 to 2π and θ is the polar angle which ranges from 0 to π. Thus, θ = 0 corresponds to the North Pole.\n",
       "*Then as the ant travels south, the azimuthal angle φ changes. To find how the projection of the path of the ant changes on the tangent plane, we need to find what the equations for x(θ) and y(θ) where (x,y) are the cartesian coordinates on the tangent plane.\n",
       "* The formula to translate points in spherical coordinates (r,θ, φ) to Cartesian coordinates is as follows:\n",
       "x = rsinθcosφ\n",
       "y = rsinθsinφ\n",
       "z = rcosθ\n",
       "*We know that our tangent plane intersects the sphere at the South Pole. Thus, the z value of every point in the tangent plane must be equal to -r. Thus, if we consider the coordinate system to be the same as before, then to get the equation of the plane using the above coordinate system, we have that\n",
       "z = -r\n",
       "rcosθ = -r\n",
       "cosθ = -1\n",
       "θ = π\n",
       "*To project points on the sphere onto our tangent plane, we must construct lines from the center of the sphere to each point on the sphere's surface. Then we extend this line until it reaches our plane. The (x,y) point where this line intersects our plane is the projection of that point. Thus, if we can solve for the z value on the line, then we can find the point where the line intersects the plane.\n",
       "*A point on the surface of our sphere has coordinates (rsinθcosφ, rsinθsinφ, rcosθ) and a point along the line from the origin to that point can be described as t(rsinθcosφ, rsinθsinφ, rcosθ) where t is a parameter. We need to find the value of t where the z coordinate equals -r. Thus, we solve for t where trcosθ = -r. This gives us that\n",
       "t = -1/cosθ\n",
       "*Thus, the projection of a point on the surface of the sphere onto the plane has the coordinates of\n",
       "(-rsinθcosφ/cosθ, -rsinθsinφ/cosθ, -r)\n",
       "*This means that the projected coordinates in our plane are\n",
       "x = -rsinθcosφ/cosθ\n",
       "y = -rsinθsinφ/cosθ\n",
       "*Since we know that the ant travels south, the ant's φ coordinate keeps increasing as it approaches the south pole. Thus, we need to know the rate at which it increases. However, since the ant spirals infinitely about the south pole as it approaches it, the exact form of this relation is quite complex. However, we still know that it is a spiral and not a circle. In fact, for all spiral curves where the radius is a function of angle, these curves have the form\n",
       "(r(φ)cos(φ), r(φ)sin(φ))\n",
       "Thus, since x = -rsinθcosφ/cosθ and y = -rsinθsinφ/cosθ and where r = rsinθ/cosθ, the coordinates on our tangent plane are of the form (r(φ)cos(φ), r(φ)sin(φ)). Thus, the ant travels along a spiral path in the plane. However, the form of r(φ) is quite complex.\n",
       "*Thus, in conclusion, the ant travels along a spiral path on the tangent plane which converges towards the point of tangency of the sphere.\n",
       "\n",
       "**Mathematical Justification**\n",
       "\n",
       "*   **Loxodrome/Rhumb Line:**  The differential equation defining a loxodrome is `dλ/dφ = constant`, where `λ` is latitude and `φ` is longitude. In our case, the constant is effectively zero, meaning the ant always moves south (changes in latitude are not dependent on changes in longitude in the limit as it approaches the pole).\n",
       "\n",
       "*   **Finite Distance:** The length of a loxodrome from latitude `λ1` to `λ2` is given by `R |λ2 - λ1| / cos(α)`, where `R` is the radius of the sphere and `α` is the angle the loxodrome makes with the meridians.  In our case, `α` approaches zero, so the path spirals toward the South Pole.  However, the rate of approach is such that the total length remains finite, even with infinite spiraling.\n",
       "\n",
       "* **Tangent Plane projection:** The coordinate transformation between spherical coordinates and the projection of those coordinates on the tangent plane is given by some formulas.\n",
       "\n",
       "**Conclusion**\n",
       "\n",
       "The ant's path is a spiral that tends towards the point of tangency between the sphere and the horizontal plane.  Even though the ant spirals infinitely around the South Pole (on the sphere) and the point of tangency (on the plane), the total distance it travels on the sphere is finite. The ant's path on the sphere is a loxodrome, and the projection of that path onto the plane is a spiral converging to the South Pole. However, because the ant travels a loxodrome along the surface of the sphere, the path is not a logarithmic spiral.\n"
      ],
      "text/plain": [
       "<IPython.core.display.Markdown object>"
      ]
     },
     "metadata": {},
     "output_type": "display_data"
    }
   ],
   "source": [
    "from IPython.display import Markdown, display\n",
    "\n",
    "# Nicely format the answer using Markdown\n",
    "display(Markdown(answer))\n",
    "\n"
   ]
  },
  {
   "cell_type": "markdown",
   "metadata": {},
   "source": [
    "<table style=\"margin: 0; text-align: left; width:100%\">\n",
    "    <tr>\n",
    "        <td style=\"width: 150px; height: 150px; vertical-align: middle;\">\n",
    "            <img src=\"../assets/exercise.png\" width=\"150\" height=\"150\" style=\"display: block;\" />\n",
    "        </td>\n",
    "        <td>\n",
    "            <h2 style=\"color:#ff7800;\">Exercise</h2>\n",
    "            <span style=\"color:#ff7800;\">Now try this commercial application:<br/>\n",
    "            First ask the LLM to pick a business area that might be worth exploring for an Agentic AI opportunity.<br/>\n",
    "            Then ask the LLM to present a pain-point in that industry - something challenging that might be ripe for an Agentic solution.<br/>\n",
    "            Finally have 3 third LLM call propose the Agentic AI solution.\n",
    "            </span>\n",
    "        </td>\n",
    "    </tr>\n",
    "</table>"
   ]
  },
  {
   "cell_type": "markdown",
   "metadata": {},
   "source": [
    "# Congratulations!\n",
    "\n",
    "That was a small, simple step in the direction of Agentic AI, with your new environment!\n",
    "\n",
    "Next time things get more interesting..."
   ]
  },
  {
   "cell_type": "code",
   "execution_count": 69,
   "metadata": {},
   "outputs": [
    {
     "name": "stdout",
     "output_type": "stream",
     "text": [
      "business_idea Software Developer\n",
      "pain_point The inefficient and error-prone nature of software testing and debugging is a pain point ripe for an agentic AI solution that can autonomously identify, diagnose, and even fix bugs.\n",
      "\n"
     ]
    },
    {
     "data": {
      "text/markdown": [
       "## Agentic AI Solution for Software Testing and Debugging: \"CodeMend\"\n",
       "\n",
       "**Concept:** CodeMend is an agentic AI system designed to autonomously improve the software development lifecycle by proactively identifying, diagnosing, and remediating bugs throughout the process.  It moves beyond simple static analysis and incorporates dynamic testing, learning, and adaptation.\n",
       "\n",
       "**Architecture:**\n",
       "\n",
       "CodeMend comprises three core modules:\n",
       "\n",
       "1. **The Inquisitor (Bug Identification & Diagnosis):** This module employs a multi-pronged approach:\n",
       "\n",
       "    * **Static Analysis:**  Leverages advanced static analysis techniques (beyond traditional linters) to identify potential vulnerabilities, code smells, and inconsistencies based on best practices, coding standards, and learned patterns from past bug fixes.  This includes leveraging large language models (LLMs) for sophisticated code understanding.\n",
       "    * **Dynamic Testing & Fuzzing:**  Utilizes advanced fuzzing techniques and automated test generation to explore the application's behavior under various conditions, identifying edge cases and unexpected inputs that trigger bugs.  This includes generating and executing test cases based on identified code paths and potential vulnerabilities.\n",
       "    * **Log Analysis & Anomaly Detection:**  Monitors application logs in real-time, leveraging machine learning to identify unusual patterns and anomalies that could indicate bugs.  It prioritizes anomalies based on severity and potential impact.\n",
       "    * **User Feedback Integration:**  Analyzes user reports, crash reports, and other feedback channels to identify and prioritize bugs affecting real users.\n",
       "\n",
       "\n",
       "2. **The Diagnostician (Root Cause Analysis):** This module dissects identified issues to pinpoint their root cause:\n",
       "\n",
       "    * **Code Traceability & Dependency Mapping:**  Builds a comprehensive understanding of the codebase's structure and dependencies to trace the flow of execution and isolate the source of the bug.\n",
       "    * **Contextual Understanding:** Uses LLMs to understand the intent behind the code, the relevant documentation, and related discussions to better understand the bug’s context.\n",
       "    * **Causal Inference:** Employs machine learning models to establish causal relationships between code changes, execution paths, and observed bugs, enabling more accurate diagnosis.\n",
       "\n",
       "\n",
       "3. **The Repairman (Automated Bug Fixing):** This module attempts automated bug fixes where feasible:\n",
       "\n",
       "    * **Automated Code Generation:**  Generates potential code fixes based on the identified root cause and learned patterns from past bug fixes.  This employs LLMs and code synthesis techniques to create plausible solutions.\n",
       "    * **Version Control Integration:**  Proposes fixes as pull requests, integrating seamlessly with the development workflow.  It provides detailed explanations for the proposed changes.\n",
       "    * **Testing & Verification:**  Automatically tests the proposed fixes to ensure they resolve the bug without introducing new issues.  This includes unit tests, integration tests, and potentially end-to-end tests.\n",
       "\n",
       "**Agentic Capabilities:**\n",
       "\n",
       "* **Autonomy:**  CodeMend operates autonomously, identifying and addressing bugs with minimal human intervention.  It prioritizes bugs based on severity and impact.\n",
       "* **Learning & Adaptation:**  CodeMend continuously learns from its experiences, improving its ability to identify, diagnose, and fix bugs over time.  It adapts to evolving codebases and development practices.\n",
       "* **Collaboration:**  CodeMend integrates seamlessly with existing development tools and workflows, providing developers with valuable insights and assistance.  It supports human-in-the-loop debugging when needed.\n",
       "\n",
       "**Benefits:**\n",
       "\n",
       "* **Reduced Development Time:**  Faster bug identification and resolution leads to quicker release cycles.\n",
       "* **Improved Software Quality:**  Fewer bugs result in a more reliable and robust application.\n",
       "* **Lower Development Costs:**  Reduced time spent on testing and debugging saves significant resources.\n",
       "* **Enhanced Developer Productivity:**  Developers can focus on higher-level tasks, rather than spending time on mundane bug fixes.\n",
       "\n",
       "\n",
       "**Challenges:**\n",
       "\n",
       "* **Complexity of Codebases:**  Handling large and complex codebases presents a significant challenge.\n",
       "* **Ambiguity of Bugs:**  Some bugs are inherently difficult to diagnose and fix automatically.\n",
       "* **Maintaining Safety and Correctness:**  Ensuring that automated fixes are safe and correct is crucial.\n",
       "\n",
       "\n",
       "CodeMend addresses the inefficient and error-prone nature of software testing and debugging by leveraging the power of agentic AI to automate many aspects of the process, leading to significant improvements in software quality and developer productivity.  However, it is important to acknowledge that fully autonomous bug fixing will remain challenging and human oversight will always be necessary, particularly for complex issues.\n"
      ],
      "text/plain": [
       "<IPython.core.display.Markdown object>"
      ]
     },
     "metadata": {},
     "output_type": "display_data"
    }
   ],
   "source": [
    "# First create the messages:\n",
    "from IPython.display import Markdown, display\n",
    "\n",
    "# Then ask the LLM to present a pain-point in that industry - something challenging that might be ripe for an Agentic solution.<br/>\n",
    "#             Finally have 3 third LLM call propose the Agentic AI solution.\n",
    "messages = [\"pick a business area that might be worth exploring for an Agentic AI opportunity.\", \"make it a single word\"]\n",
    "\n",
    "# Then make the first call:\n",
    "\n",
    "response =  client.models.generate_content(\n",
    "    model=\"gemini-1.5-flash\", contents=messages\n",
    ")\n",
    "\n",
    "# Then read the business idea:\n",
    "\n",
    "business_idea = response.text\n",
    "business_idea = \"Software Developer\"\n",
    "print('business_idea', business_idea)\n",
    "messages = [\"Pain point in \" + business_idea + \" industry and that might be ripe for an Agentic solution.\" , \"make it a single sentence\"]\n",
    "\n",
    "response = client.models.generate_content(\n",
    "    model=\"gemini-1.5-flash\", contents=messages\n",
    ")\n",
    "\n",
    "pain_point = response.text\n",
    "print('pain_point', pain_point)\n",
    "\n",
    "response = client.models.generate_content(\n",
    "    model=\"gemini-1.5-flash\", contents=\"Propose the Agentic AI solution for \" + pain_point\n",
    ")\n",
    "\n",
    "agentic_solution = response.text\n",
    "# print('agentic_solution', agentic_solution)\n",
    "\n",
    "\n",
    "# Nicely format the answer using Markdown\n",
    "display(Markdown(agentic_solution))\n",
    " \n",
    "\n",
    "# And repeat!"
   ]
  },
  {
   "cell_type": "markdown",
   "metadata": {},
   "source": []
  }
 ],
 "metadata": {
  "kernelspec": {
   "display_name": ".venv",
   "language": "python",
   "name": "python3"
  },
  "language_info": {
   "codemirror_mode": {
    "name": "ipython",
    "version": 3
   },
   "file_extension": ".py",
   "mimetype": "text/x-python",
   "name": "python",
   "nbconvert_exporter": "python",
   "pygments_lexer": "ipython3",
   "version": "3.12.10"
  }
 },
 "nbformat": 4,
 "nbformat_minor": 2
}
