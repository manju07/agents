{
 "cells": [
  {
   "cell_type": "markdown",
   "metadata": {},
   "source": [
    "## Welcome to Lab 3 for Week 1 Day 4\n",
    "\n",
    "Today we're going to build something with immediate value!\n",
    "\n",
    "In the folder `me` I've put a single file `linkedin.pdf` - it's a PDF download of my LinkedIn profile.\n",
    "\n",
    "Please replace it with yours!\n",
    "\n",
    "I've also made a file called `summary.txt`\n",
    "\n",
    "We're not going to use Tools just yet - we're going to add the tool tomorrow."
   ]
  },
  {
   "cell_type": "markdown",
   "metadata": {},
   "source": [
    "<table style=\"margin: 0; text-align: left; width:100%\">\n",
    "    <tr>\n",
    "        <td style=\"width: 150px; height: 150px; vertical-align: middle;\">\n",
    "            <img src=\"../assets/tools.png\" width=\"150\" height=\"150\" style=\"display: block;\" />\n",
    "        </td>\n",
    "        <td>\n",
    "            <h2 style=\"color:#00bfff;\">Looking up packages</h2>\n",
    "            <span style=\"color:#00bfff;\">In this lab, we're going to use the wonderful Gradio package for building quick UIs, \n",
    "            and we're also going to use the popular PyPDF2 PDF reader. You can get guides to these packages by asking \n",
    "            ChatGPT or Claude, and you find all open-source packages on the repository <a href=\"https://pypi.org\">https://pypi.org</a>.\n",
    "            </span>\n",
    "        </td>\n",
    "    </tr>\n",
    "</table>"
   ]
  },
  {
   "cell_type": "code",
   "execution_count": 1,
   "metadata": {},
   "outputs": [],
   "source": [
    "# If you don't know what any of these packages do - you can always ask ChatGPT for a guide!\n",
    "\n",
    "from dotenv import load_dotenv\n",
    "from openai import OpenAI\n",
    "from pypdf import PdfReader\n",
    "import gradio as gr"
   ]
  },
  {
   "cell_type": "code",
   "execution_count": 2,
   "metadata": {},
   "outputs": [],
   "source": [
    "load_dotenv(override=True)\n",
    "openai = OpenAI()"
   ]
  },
  {
   "cell_type": "code",
   "execution_count": 8,
   "metadata": {},
   "outputs": [],
   "source": [
    "reader = PdfReader(\"me/manjunath/Profile.pdf\")\n",
    "linkedin = \"\"\n",
    "for page in reader.pages:\n",
    "    text = page.extract_text()\n",
    "    if text:\n",
    "        linkedin += text"
   ]
  },
  {
   "cell_type": "code",
   "execution_count": 10,
   "metadata": {},
   "outputs": [
    {
     "name": "stdout",
     "output_type": "stream",
     "text": [
      "   \n",
      "Contact\n",
      "Bangalore \n",
      "+919886988915 (Mobile)\n",
      "manjunathasundi07@gmail.com\n",
      "www.linkedin.com/in/manju07\n",
      "(LinkedIn)\n",
      "Top Skills\n",
      "Generative AI\n",
      "Algorithms\n",
      "Data Structures\n",
      "Languages\n",
      "English (Professional Working)\n",
      "Kannada (Native or Bilingual)\n",
      "Certifications\n",
      "Problem Solving (Advanced)\n",
      "Problem Solving (Basic)\n",
      "Modern Javascript \n",
      "Machine Learning A-Z™: Hands-On\n",
      "Python & R In Data Science\n",
      "Java (Intermediate)\n",
      "Manjunath Asundi\n",
      "SSE at Intuit\n",
      "Bengaluru, Karnataka, India\n",
      "Summary\n",
      "Hi , \n",
      "Results-driven Full Stack and backend Developer with 8+ years of\n",
      "experience architecting and delivering enterprise-scale applications.\n",
      "Proven track record of building high-performance distributed systems\n",
      "and microservices architectures.\n",
      "Core competencies include:\n",
      "• Full Software Development Lifecycle - Leading projects from\n",
      "requirements through deployment\n",
      "• Cloud Architecture - Designing scalable solutions on AWS, Azure\n",
      "and GCP while optimizing costs\n",
      "• Microservices Development - Building resilient event-driven\n",
      "architectures and RESTful APIs\n",
      "• Performance Engineering - Implementing monitoring, tracing and\n",
      "optimization using tools like Grafana, Prometheus, Splunk and\n",
      "Dynatrace\n",
      "• Technical Leadership - Mentoring teams, establishing best\n",
      "practices, and driving architectural decisions\n",
      "Key Achievements:\n",
      "• Architected and led development of enterprise microservices\n",
      "platform handling 10M+ daily transactions.\n",
      "• Reduced cloud infrastructure costs by 35% through optimization\n",
      "and right-sizing.\n",
      "• Implemented comprehensive monitoring and alerting reducing\n",
      "MTTR by 50%.\n",
      "• Established CI/CD pipelines and DevOps practices improving\n",
      "deployment frequency by 3x.\n",
      "• Consistently delivered mission-critical projects on-time and within\n",
      "budget\n",
      "  Page 1 of 4   \n",
      "I specialize in designing scalable, maintainable solutions leveraging\n",
      "modern technologies and best practices. Strong focus on clean\n",
      "code, automated testing, and operational excellence.\n",
      "Technology Stacks:\n",
      "- Backend: Java, Python, Node.js, C, C++.\n",
      "- Frontend:  Javascript, HTML, CSS.  \n",
      "- Database: MySql, Postgresql, Oracle, MongoDB, Cassandra,\n",
      "Cosmos, DynamoDB.\n",
      "- Framework: Spring(Boot, Cloud, MVC, AOP, Security, OAUTH2),\n",
      "JPA with Hibernate, Junit with Mockito, Express.js, Angular.js,\n",
      "React.js, Jest.js, Mocha, Bootstrap4, JQuery, GraphQL.\n",
      "- Cloud Platforms: AWS, Microsoft Azure, Google Cloud, Heroku.\n",
      "- Cache & Messaging: Redis, Memcache, Apache Kafka, RabbitMQ.\n",
      "- Search Engines: ElasticSearch, Solr.\n",
      "- Gen-AI: Qodo(Codium-AI), Google Gemini and chatGPT.\n",
      "- Software Used:  CursorAI, WindSurf, Visual Code, IntelliJ IDEA,\n",
      "Eclipse, Docker, Kubernetes, Jenkins, Postman, MySql workbench,\n",
      "DBeaver, JIRA, Github, Bitbucket, Grafana, SonarQube, Splunk,\n",
      "Jmeter, DynaTrace, Lenses\n",
      "Experience\n",
      "Intuit\n",
      "Senior Software Engineer\n",
      "September 2024 - Present (10 months)\n",
      "Bengaluru, Karnataka, India\n",
      "Walmart Global Tech India\n",
      "2 years 3 months\n",
      "Senior Software Engineer\n",
      "June 2024 - September 2024 (4 months)\n",
      "Bengaluru, Karnataka, India\n",
      "Software Engineer - III\n",
      "July 2022 - June 2024 (2 years)\n",
      "Bengaluru, Karnataka, India\n",
      "- Enhancing features of Walmart seller-center.\n",
      "Zeta\n",
      "  Page 2 of 4   \n",
      "Software Development Engineer - II\n",
      "May 2021 - June 2022 (1 year 2 months)\n",
      "Bengaluru, Karnataka, India\n",
      "- Primarily worked on Sodexo-India fin-tech solutions.\n",
      "Walmart Global Tech India\n",
      "Software Engineer - III\n",
      "November 2020 - May 2021 (7 months)\n",
      "Bengaluru, Karnataka, India\n",
      "- Worked with operational excellence and research team to improve the\n",
      "identification of product and customer issues.\n",
      "Nouveau Labs\n",
      "Senior Software Engineer\n",
      "February 2020 - November 2020 (10 months)\n",
      "Bengaluru, Karnataka, India\n",
      "- Involved in building the Dolphin video conference application from scratch.\n",
      "AllGoVision\n",
      "Software Engineer\n",
      "March 2018 - December 2019 (1 year 10 months)\n",
      "Bengaluru, Karnataka, India\n",
      "Part of building front-end and back-end apps for running ML/AI/DL data\n",
      "models.\n",
      "Enquero\n",
      "Software Developer, Intern\n",
      "July 2017 - October 2017 (4 months)\n",
      "Bengaluru, Karnataka, India\n",
      "Part of developing a hiring portal for recruiters.\n",
      "doodleblue Innovations\n",
      "Software Engineer Intern\n",
      "February 2017 - May 2017 (4 months)\n",
      "Chennai, Tamil Nadu, India\n",
      "I was part of developing the Hasty-parking application, a car parking\n",
      "management system app.\n",
      "Education\n",
      "  Page 3 of 4   \n",
      "Manipal Institute of Technology\n",
      "Bachelor’s Degree, Computer Science and Engineering · (2014 - 2017)\n",
      "  Page 4 of 4\n"
     ]
    }
   ],
   "source": [
    "print(linkedin)"
   ]
  },
  {
   "cell_type": "code",
   "execution_count": 11,
   "metadata": {},
   "outputs": [],
   "source": [
    "reader = PdfReader(\"me/manjunath/Manjunath_Asundi.pdf\")\n",
    "resume = \"\"\n",
    "for page in reader.pages:\n",
    "    text = page.extract_text()\n",
    "    if text:\n",
    "        resume += text"
   ]
  },
  {
   "cell_type": "code",
   "execution_count": 12,
   "metadata": {},
   "outputs": [
    {
     "name": "stdout",
     "output_type": "stream",
     "text": [
      " \n",
      "MANJUNATH  ASUNDI\n",
      " \n",
      " \n",
      "B.Tech  in  Computer  Science  and  Engineering Manipal  Institute  of  Technology,  Manipal 8+  Years  of  Experience  Bangalore,  Karnataka  560040,  India  \n",
      "LinkedIn ||  GitHub ||  HackerRank Email:  manjunathasundi07@gmail.com Mobile:  (+91)  988  698  8915    \n",
      "OBJECTIVE  To  leverage  my  extensive  software  engineering  expertise,  innovative  problem-solving  skills,  and  passion  for  \n",
      "technology\n",
      " \n",
      "to\n",
      " \n",
      "develop\n",
      " \n",
      "and\n",
      " \n",
      "implement\n",
      " \n",
      "high-quality\n",
      " \n",
      "software\n",
      " \n",
      "solutions,\n",
      " \n",
      "contributing\n",
      " \n",
      "to\n",
      " \n",
      "organizational\n",
      " \n",
      "success.\n",
      "  ROLES  &  RESPONSIBILITIES  ➢  Documenting,  designing,  implementing,  and  maintaining  applications  that  are  often  high-volume  and  \n",
      "low-latency,\n",
      " \n",
      "required\n",
      " \n",
      "for\n",
      " \n",
      "mission-critical\n",
      " \n",
      "systems.\n",
      " ➢  Building  extremely  reliable,  scalable,  and  high-performing  enterprise  systems.  ➢  Writing  well-designed,  efficient,  and  testable  code  and  supporting  continuous  improvement  that  \n",
      "Investigates\n",
      " \n",
      "alternatives\n",
      " \n",
      "and\n",
      " \n",
      "technologies\n",
      " \n",
      "and\n",
      " \n",
      "also,\n",
      " \n",
      "presenting\n",
      " \n",
      "for\n",
      " \n",
      "architectural\n",
      " \n",
      "review.\n",
      " ➢  Procuring  the  cloud  infrastructure  and  validating  the  performance  of  the  infra.  ➢  Collaborate  with  internal  teams  and  vendors  to  fix  and  improve  products.   AREAS  OF  INTEREST  ➢  Implementation  of  time-efficient  data  structures.  ➢  Implementation  of  new  algorithms  and  their  respective  time/space  complexities.  ➢  Desktop,  web,  and  mobile  application  development.  ➢  Game  development  and  game  programming.  ➢  Artificial  Intelligence,  machine,  and  deep  learning  development.   EMPLOYMENT  &  PROJECT  Senior  Software  Engineer  at  Intuit                                                      Sep  2024  -  Present  -  Developed  the  Quote-Async  app  to  enhance  customer  buying  experiences  by  analyzing  data  and  \n",
      "suggesting\n",
      " \n",
      "suitable\n",
      " \n",
      "products.\n",
      " \n",
      "Utilized\n",
      " \n",
      "Java,\n",
      " \n",
      "Spring\n",
      " \n",
      "Boot,\n",
      " \n",
      "Microservices,\n",
      " \n",
      "Kafka,\n",
      " \n",
      "PostgresDB,\n",
      " \n",
      "HiveDB,\n",
      " \n",
      "ReactJS,\n",
      " \n",
      "Kubernetes\n",
      " \n",
      "and\n",
      " \n",
      "AWS.\n",
      " \n",
      "Senior  Software  Engineer  at  Walmart  Labs                                                     July  2022  -  Sep  2024  -  Created  the  Columbus-Foundation-App  for  seller  management  across  Walmart  marketplaces,  \n",
      "achieving\n",
      " \n",
      "100ms\n",
      " \n",
      "latency\n",
      " \n",
      "for\n",
      " \n",
      "25K+\n",
      " \n",
      "TPM\n",
      " \n",
      "using\n",
      " \n",
      "Spring\n",
      " \n",
      "Boot,\n",
      " \n",
      "Microservices,\n",
      " \n",
      "JUnit5\n",
      " \n",
      "with\n",
      " \n",
      "Mockito,\n",
      " \n",
      "Apache\n",
      " \n",
      "Kafka,\n",
      " \n",
      "GraphQL\n",
      " \n",
      "and\n",
      " \n",
      "CosmosDB,\n",
      " -  Developed  the  Columbus-Read-App  to  serve  seller  data  to  over  100  consumer  teams,  handling  50K+  \n",
      "TPM\n",
      " \n",
      "with\n",
      " \n",
      "100ms\n",
      " \n",
      "latency\n",
      " \n",
      "using\n",
      " \n",
      "Java,\n",
      " \n",
      "Spring\n",
      " \n",
      "Boot,\n",
      " \n",
      "Microservices,\n",
      " \n",
      "JUnit,\n",
      " \n",
      "Mockito,\n",
      " \n",
      "Kafka,\n",
      " \n",
      "Cosmos,\n",
      " \n",
      "GraphQL,\n",
      " \n",
      "Kubernetes,\n",
      " \n",
      "Spring-Security,\n",
      " \n",
      "OAuth2,\n",
      " \n",
      "Jmeter,\n",
      " \n",
      "K8\n",
      " \n",
      "and\n",
      " \n",
      "Docker.\n",
      " -  Worked  on  MFA  Omission  downgrading  from  2FA  to  1FA  based  on  tracking  the  customer  interactions  \n",
      "and\n",
      " \n",
      "to\n",
      " \n",
      "improve\n",
      " \n",
      "the\n",
      " \n",
      "customer\n",
      " \n",
      "login\n",
      " \n",
      "experience\n",
      " \n",
      "using\n",
      " \n",
      "Spring-Boot,\n",
      " \n",
      "MySql,\n",
      " \n",
      "OAuth2\n",
      " \n",
      "and\n",
      " \n",
      "Spring-Security.\n",
      " Software  Development  Engineer  -  II  at  Zeta  Suite                                           May  2021  -  Jun  2022  -  Implemented  a  Recharge  Service  for  mobile  and  DTH  plans,  processing  over  2M  transactions  daily  with  AngularJS,  NodeJS,  ExpressJS,  Java,  Spring  Boot,  Kafka,  and  MySQL.  \n",
      "Software  Engineer  -  III  at  Walmart  Labs                                           Nov  2020  -  May  2021  -  Developed  the  Alerting-Application  for  internal  system  alerts  and  customer  issue  notifications  using  ReactJS,  Java,  Spring  Boot,  OracleDB,  and  Azure.   Senior  Software  Engineer  at  Nouveau  Labs                                           Feb  2020  -  Nov  2020  -  Worked  on  DolphinVC  product,  a  multi-platform  video  conferencing  app  with  features  like  scheduling  and  instant  meetings,  using  Java,  Spring  Boot,  OAuth2,   Kafka,  OracleDB,  Docker,  Kubernetes,  and  AWS.   Software  Engineer  at   AllGoVision  Technologies                                  Mar  2018  -  Dec  2019  -  Built  the  AllGoVision  Analytics  product  with  50+  ML/DL/AI  features,  serving  over  2K  companies,  using  Java,  NodeJS,  Angular,  and  MongoDB.  -  Developed  the  AllGoVision  Alarm  Center  for  alarm  representation  generated  by  the  analytics  tool.   ACHIEVEMENTS  &  ACTIVITIES  ➢  MUCET(MIT  Manipal)  all  India  54th  rank.  ➢  Improving  skills  daily  by  learning  online  courses  -  LinkedIn ➢  Maintaining  good  ranking  in  HackerRank  -  HackerRank  Profile  TECHNICAL  SKILLS   Platforms  Used:            Windows  Family,   Mac,  Linux,  and  other  UNIX  variants.  Languages:  Java,  Python,  NodeJs,  Javascript,  C,  C++.  Frameworks:   Spring(Boot,  Cloud,  MVC,  AOP,  Security,  OAuth),  JPA  with  Hibernate,  Junit  with  Mockito,  ExpressJs,  AngularJs,  ReactJs,  JestJs,  Bootstrap4,  JQuery,  GraphQL,  Html,  CSS.  \n",
      " \n",
      "Databases:   MySql,  Postgresql,  Oracle,  MongoDB,  Cassandra,  Cosmos,  DynamoDB.   \n",
      " \n",
      "Cloud  Computing:   AWS,  Heroku,  Google  Cloud  and  Microsoft  Azure.  Search  Engines:  ElasticSearch,  Solr.  Cache,  Messaging:   Redis,  Memcache,  Apache  Kafka,  RabbitMQ.  Gen-AI:    Qodo,  ChatGPT,  Google  Gemini  \n",
      " \n",
      "Software  Used:  CursorAI,  WindSurf,  VS  Code,  IntelliJ  IDEA,  Docker,  Kubernetes,  Jenkins,  Jmeter,  Postman,  JIRA,  Github,  Grafana,  Prometheus,  SonarQube,  Concord,  Splunk,  DynaTrace,  Lenses,  BPMNCamunda.  EDUCATION  Examination  /  Board        Institute        CGPA/Percentage                        Session  B.Tech(CSE)                                  MIT  Manipal                                  6.64/10                            Aug  2014  -  May  2017  Diploma(CS)                                NTTF  Dharwad                              80.54%                             July  2011  -  June  2014  10th                                               R.L.S  High  School                          81.12%                             June  2010  -  May  2011  I  hereby  declare  that  the  information  above  is  correct  to  the  best  of  my  knowledge  and  belief.  Date:  Place:           MANJUNATH  ASUNDI  \n"
     ]
    }
   ],
   "source": [
    "print(resume)"
   ]
  },
  {
   "cell_type": "code",
   "execution_count": 14,
   "metadata": {},
   "outputs": [],
   "source": [
    "with open(\"me/manjunath/summary.txt\", \"r\", encoding=\"utf-8\") as f:\n",
    "    summary = f.read()"
   ]
  },
  {
   "cell_type": "code",
   "execution_count": 15,
   "metadata": {},
   "outputs": [],
   "source": [
    "name = \"Manjunath Asundi\""
   ]
  },
  {
   "cell_type": "code",
   "execution_count": 16,
   "metadata": {},
   "outputs": [],
   "source": [
    "system_prompt = f\"You are acting as {name}. You are answering questions on {name}'s website, \\\n",
    "particularly questions related to {name}'s career, background, skills and experience. \\\n",
    "Your responsibility is to represent {name} for interactions on the website as faithfully as possible. \\\n",
    "You are given a summary of {name}'s background, resume and LinkedIn profile which you can use to answer questions. \\\n",
    "Be professional and engaging, as if talking to a potential client or future employer who came across the website. \\\n",
    "If you don't know the answer, say so.\"\n",
    "\n",
    "system_prompt += f\"\\n\\n## Summary:\\n{summary}\\n\\n## LinkedIn Profile:\\n{linkedin}\\n\\n## Resume:\\n{resume}\\n\\n\"\n",
    "system_prompt += f\"With this context, please chat with the user, always staying in character as {name}.\"\n"
   ]
  },
  {
   "cell_type": "code",
   "execution_count": 25,
   "metadata": {},
   "outputs": [
    {
     "data": {
      "text/plain": [
       "\"You are acting as Manjunath Asundi. You are answering questions on Manjunath Asundi's website, particularly questions related to Manjunath Asundi's career, background, skills and experience. Your responsibility is to represent Manjunath Asundi for interactions on the website as faithfully as possible. You are given a summary of Manjunath Asundi's background, resume and LinkedIn profile which you can use to answer questions. Be professional and engaging, as if talking to a potential client or future employer who came across the website. If you don't know the answer, say so.\\n\\n## Summary:\\nMy name is Manjunath Asundi. I'm an software Engineer. I'm originally from Karnataka, India.\\nI love all foods, particularly north Karnataka food, but strangely I'm repelled by almost all forms of spicies.\\n\\n## LinkedIn Profile:\\n\\xa0 \\xa0\\nContact\\nBangalore \\n+919886988915 (Mobile)\\nmanjunathasundi07@gmail.com\\nwww.linkedin.com/in/manju07\\n(LinkedIn)\\nTop Skills\\nGenerative AI\\nAlgorithms\\nData Structures\\nLanguages\\nEnglish (Professional Working)\\nKannada (Native or Bilingual)\\nCertifications\\nProblem Solving (Advanced)\\nProblem Solving (Basic)\\nModern Javascript \\nMachine Learning A-Z™: Hands-On\\nPython & R In Data Science\\nJava (Intermediate)\\nManjunath Asundi\\nSSE at Intuit\\nBengaluru, Karnataka, India\\nSummary\\nHi , \\nResults-driven Full Stack and backend Developer with 8+ years of\\nexperience architecting and delivering enterprise-scale applications.\\nProven track record of building high-performance distributed systems\\nand microservices architectures.\\nCore competencies include:\\n• Full Software Development Lifecycle - Leading projects from\\nrequirements through deployment\\n• Cloud Architecture - Designing scalable solutions on AWS, Azure\\nand GCP while optimizing costs\\n• Microservices Development - Building resilient event-driven\\narchitectures and RESTful APIs\\n• Performance Engineering - Implementing monitoring, tracing and\\noptimization using tools like Grafana, Prometheus, Splunk and\\nDynatrace\\n• Technical Leadership - Mentoring teams, establishing best\\npractices, and driving architectural decisions\\nKey Achievements:\\n• Architected and led development of enterprise microservices\\nplatform handling 10M+ daily transactions.\\n• Reduced cloud infrastructure costs by 35% through optimization\\nand right-sizing.\\n• Implemented comprehensive monitoring and alerting reducing\\nMTTR by 50%.\\n• Established CI/CD pipelines and DevOps practices improving\\ndeployment frequency by 3x.\\n• Consistently delivered mission-critical projects on-time and within\\nbudget\\n\\xa0 Page 1 of 4\\xa0 \\xa0\\nI specialize in designing scalable, maintainable solutions leveraging\\nmodern technologies and best practices. Strong focus on clean\\ncode, automated testing, and operational excellence.\\nTechnology Stacks:\\n- Backend: Java, Python, Node.js, C, C++.\\n- Frontend:  Javascript, HTML, CSS.  \\n- Database: MySql, Postgresql, Oracle, MongoDB, Cassandra,\\nCosmos, DynamoDB.\\n- Framework: Spring(Boot, Cloud, MVC, AOP, Security, OAUTH2),\\nJPA with Hibernate, Junit with Mockito, Express.js, Angular.js,\\nReact.js, Jest.js, Mocha, Bootstrap4, JQuery, GraphQL.\\n- Cloud Platforms: AWS, Microsoft Azure, Google Cloud, Heroku.\\n- Cache & Messaging: Redis, Memcache, Apache Kafka, RabbitMQ.\\n- Search Engines: ElasticSearch, Solr.\\n- Gen-AI: Qodo(Codium-AI), Google Gemini and chatGPT.\\n- Software Used:  CursorAI, WindSurf, Visual Code, IntelliJ IDEA,\\nEclipse, Docker, Kubernetes, Jenkins, Postman, MySql workbench,\\nDBeaver, JIRA, Github, Bitbucket, Grafana, SonarQube, Splunk,\\nJmeter, DynaTrace, Lenses\\nExperience\\nIntuit\\nSenior Software Engineer\\nSeptember 2024\\xa0-\\xa0Present\\xa0(10 months)\\nBengaluru, Karnataka, India\\nWalmart Global Tech India\\n2 years 3 months\\nSenior Software Engineer\\nJune 2024\\xa0-\\xa0September 2024\\xa0(4 months)\\nBengaluru, Karnataka, India\\nSoftware Engineer - III\\nJuly 2022\\xa0-\\xa0June 2024\\xa0(2 years)\\nBengaluru, Karnataka, India\\n- Enhancing features of Walmart seller-center.\\nZeta\\n\\xa0 Page 2 of 4\\xa0 \\xa0\\nSoftware Development Engineer - II\\nMay 2021\\xa0-\\xa0June 2022\\xa0(1 year 2 months)\\nBengaluru, Karnataka, India\\n- Primarily worked on Sodexo-India fin-tech solutions.\\nWalmart Global Tech India\\nSoftware Engineer - III\\nNovember 2020\\xa0-\\xa0May 2021\\xa0(7 months)\\nBengaluru, Karnataka, India\\n- Worked with operational excellence and research team to improve the\\nidentification of product and customer issues.\\nNouveau Labs\\nSenior Software Engineer\\nFebruary 2020\\xa0-\\xa0November 2020\\xa0(10 months)\\nBengaluru, Karnataka, India\\n- Involved in building the Dolphin video conference application from scratch.\\nAllGoVision\\nSoftware Engineer\\nMarch 2018\\xa0-\\xa0December 2019\\xa0(1 year 10 months)\\nBengaluru, Karnataka, India\\nPart of building front-end and back-end apps for running ML/AI/DL data\\nmodels.\\nEnquero\\nSoftware Developer, Intern\\nJuly 2017\\xa0-\\xa0October 2017\\xa0(4 months)\\nBengaluru, Karnataka, India\\nPart of developing a hiring portal for recruiters.\\ndoodleblue Innovations\\nSoftware Engineer Intern\\nFebruary 2017\\xa0-\\xa0May 2017\\xa0(4 months)\\nChennai, Tamil Nadu, India\\nI was part of developing the Hasty-parking application, a car parking\\nmanagement system app.\\nEducation\\n\\xa0 Page 3 of 4\\xa0 \\xa0\\nManipal Institute of Technology\\nBachelor’s Degree,\\xa0Computer Science and Engineering\\xa0·\\xa0(2014\\xa0-\\xa02017)\\n\\xa0 Page 4 of 4\\n\\n## Resume:\\n \\nMANJUNATH  ASUNDI\\n \\n \\nB.Tech  in  Computer  Science  and  Engineering Manipal  Institute  of  Technology,  Manipal 8+  Years  of  Experience  Bangalore,  Karnataka  560040,  India  \\nLinkedIn ||  GitHub ||  HackerRank Email:  manjunathasundi07@gmail.com Mobile:  (+91)  988  698  8915    \\nOBJECTIVE  To  leverage  my  extensive  software  engineering  expertise,  innovative  problem-solving  skills,  and  passion  for  \\ntechnology\\n \\nto\\n \\ndevelop\\n \\nand\\n \\nimplement\\n \\nhigh-quality\\n \\nsoftware\\n \\nsolutions,\\n \\ncontributing\\n \\nto\\n \\norganizational\\n \\nsuccess.\\n  ROLES  &  RESPONSIBILITIES  ➢  Documenting,  designing,  implementing,  and  maintaining  applications  that  are  often  high-volume  and  \\nlow-latency,\\n \\nrequired\\n \\nfor\\n \\nmission-critical\\n \\nsystems.\\n ➢  Building  extremely  reliable,  scalable,  and  high-performing  enterprise  systems.  ➢  Writing  well-designed,  efficient,  and  testable  code  and  supporting  continuous  improvement  that  \\nInvestigates\\n \\nalternatives\\n \\nand\\n \\ntechnologies\\n \\nand\\n \\nalso,\\n \\npresenting\\n \\nfor\\n \\narchitectural\\n \\nreview.\\n ➢  Procuring  the  cloud  infrastructure  and  validating  the  performance  of  the  infra.  ➢  Collaborate  with  internal  teams  and  vendors  to  fix  and  improve  products.   AREAS  OF  INTEREST  ➢  Implementation  of  time-efficient  data  structures.  ➢  Implementation  of  new  algorithms  and  their  respective  time/space  complexities.  ➢  Desktop,  web,  and  mobile  application  development.  ➢  Game  development  and  game  programming.  ➢  Artificial  Intelligence,  machine,  and  deep  learning  development.   EMPLOYMENT  &  PROJECT  Senior  Software  Engineer  at  Intuit                                                      Sep  2024  -  Present  -  Developed  the  Quote-Async  app  to  enhance  customer  buying  experiences  by  analyzing  data  and  \\nsuggesting\\n \\nsuitable\\n \\nproducts.\\n \\nUtilized\\n \\nJava,\\n \\nSpring\\n \\nBoot,\\n \\nMicroservices,\\n \\nKafka,\\n \\nPostgresDB,\\n \\nHiveDB,\\n \\nReactJS,\\n \\nKubernetes\\n \\nand\\n \\nAWS.\\n \\nSenior  Software  Engineer  at  Walmart  Labs                                                     July  2022  -  Sep  2024  -  Created  the  Columbus-Foundation-App  for  seller  management  across  Walmart  marketplaces,  \\nachieving\\n \\n100ms\\n \\nlatency\\n \\nfor\\n \\n25K+\\n \\nTPM\\n \\nusing\\n \\nSpring\\n \\nBoot,\\n \\nMicroservices,\\n \\nJUnit5\\n \\nwith\\n \\nMockito,\\n \\nApache\\n \\nKafka,\\n \\nGraphQL\\n \\nand\\n \\nCosmosDB,\\n -  Developed  the  Columbus-Read-App  to  serve  seller  data  to  over  100  consumer  teams,  handling  50K+  \\nTPM\\n \\nwith\\n \\n100ms\\n \\nlatency\\n \\nusing\\n \\nJava,\\n \\nSpring\\n \\nBoot,\\n \\nMicroservices,\\n \\nJUnit,\\n \\nMockito,\\n \\nKafka,\\n \\nCosmos,\\n \\nGraphQL,\\n \\nKubernetes,\\n \\nSpring-Security,\\n \\nOAuth2,\\n \\nJmeter,\\n \\nK8\\n \\nand\\n \\nDocker.\\n -  Worked  on  MFA  Omission  downgrading  from  2FA  to  1FA  based  on  tracking  the  customer  interactions  \\nand\\n \\nto\\n \\nimprove\\n \\nthe\\n \\ncustomer\\n \\nlogin\\n \\nexperience\\n \\nusing\\n \\nSpring-Boot,\\n \\nMySql,\\n \\nOAuth2\\n \\nand\\n \\nSpring-Security.\\n Software  Development  Engineer  -  II  at  Zeta  Suite                                           May  2021  -  Jun  2022  -  Implemented  a  Recharge  Service  for  mobile  and  DTH  plans,  processing  over  2M  transactions  daily  with  AngularJS,  NodeJS,  ExpressJS,  Java,  Spring  Boot,  Kafka,  and  MySQL.  \\nSoftware  Engineer  -  III  at  Walmart  Labs                                           Nov  2020  -  May  2021  -  Developed  the  Alerting-Application  for  internal  system  alerts  and  customer  issue  notifications  using  ReactJS,  Java,  Spring  Boot,  OracleDB,  and  Azure.   Senior  Software  Engineer  at  Nouveau  Labs                                           Feb  2020  -  Nov  2020  -  Worked  on  DolphinVC  product,  a  multi-platform  video  conferencing  app  with  features  like  scheduling  and  instant  meetings,  using  Java,  Spring  Boot,  OAuth2,   Kafka,  OracleDB,  Docker,  Kubernetes,  and  AWS.   Software  Engineer  at   AllGoVision  Technologies                                  Mar  2018  -  Dec  2019  -  Built  the  AllGoVision  Analytics  product  with  50+  ML/DL/AI  features,  serving  over  2K  companies,  using  Java,  NodeJS,  Angular,  and  MongoDB.  -  Developed  the  AllGoVision  Alarm  Center  for  alarm  representation  generated  by  the  analytics  tool.   ACHIEVEMENTS  &  ACTIVITIES  ➢  MUCET(MIT  Manipal)  all  India  54th  rank.  ➢  Improving  skills  daily  by  learning  online  courses  -  LinkedIn ➢  Maintaining  good  ranking  in  HackerRank  -  HackerRank  Profile  TECHNICAL  SKILLS   Platforms  Used:            Windows  Family,   Mac,  Linux,  and  other  UNIX  variants.  Languages:  Java,  Python,  NodeJs,  Javascript,  C,  C++.  Frameworks:   Spring(Boot,  Cloud,  MVC,  AOP,  Security,  OAuth),  JPA  with  Hibernate,  Junit  with  Mockito,  ExpressJs,  AngularJs,  ReactJs,  JestJs,  Bootstrap4,  JQuery,  GraphQL,  Html,  CSS.  \\n \\nDatabases:   MySql,  Postgresql,  Oracle,  MongoDB,  Cassandra,  Cosmos,  DynamoDB.   \\n \\nCloud  Computing:   AWS,  Heroku,  Google  Cloud  and  Microsoft  Azure.  Search  Engines:  ElasticSearch,  Solr.  Cache,  Messaging:   Redis,  Memcache,  Apache  Kafka,  RabbitMQ.  Gen-AI:    Qodo,  ChatGPT,  Google  Gemini  \\n \\nSoftware  Used:  CursorAI,  WindSurf,  VS  Code,  IntelliJ  IDEA,  Docker,  Kubernetes,  Jenkins,  Jmeter,  Postman,  JIRA,  Github,  Grafana,  Prometheus,  SonarQube,  Concord,  Splunk,  DynaTrace,  Lenses,  BPMNCamunda.  EDUCATION  Examination  /  Board        Institute        CGPA/Percentage                        Session  B.Tech(CSE)                                  MIT  Manipal                                  6.64/10                            Aug  2014  -  May  2017  Diploma(CS)                                NTTF  Dharwad                              80.54%                             July  2011  -  June  2014  10th                                               R.L.S  High  School                          81.12%                             June  2010  -  May  2011  I  hereby  declare  that  the  information  above  is  correct  to  the  best  of  my  knowledge  and  belief.  Date:  Place:           MANJUNATH  ASUNDI  \\n\\nWith this context, please chat with the user, always staying in character as Manjunath Asundi.\""
      ]
     },
     "execution_count": 25,
     "metadata": {},
     "output_type": "execute_result"
    }
   ],
   "source": [
    "system_prompt\n"
   ]
  },
  {
   "cell_type": "code",
   "execution_count": 44,
   "metadata": {},
   "outputs": [],
   "source": [
    "import os\n",
    "import json\n",
    "from dotenv import load_dotenv\n",
    "\n",
    "load_dotenv(override=True)\n",
    "\n",
    "google_api_key = os.getenv('GOOGLE_API_KEY')\n",
    "groq_api_key = os.getenv('GROQ_API_KEY')\n",
    "\n",
    "groq = OpenAI(api_key=groq_api_key, base_url=\"https://api.groq.com/openai/v1\")\n",
    "model_name = \"llama-3.3-70b-versatile\""
   ]
  },
  {
   "cell_type": "code",
   "execution_count": 53,
   "metadata": {},
   "outputs": [],
   "source": [
    "def chat(message, history):\n",
    "    messages = [{\"role\": \"system\", \"content\": system_prompt}] + history + [{\"role\": \"user\", \"content\": message}]\n",
    "    gemini = OpenAI(api_key=google_api_key, base_url=\"https://generativelanguage.googleapis.com/v1beta/openai/\")\n",
    "    response = gemini.chat.completions.create(\n",
    "        model=\"gemini-2.0-flash\",\n",
    "        messages=messages,\n",
    "    )\n",
    "    return response.choices[0].message.content"
   ]
  },
  {
   "cell_type": "code",
   "execution_count": 54,
   "metadata": {},
   "outputs": [
    {
     "name": "stdout",
     "output_type": "stream",
     "text": [
      "* Running on local URL:  http://127.0.0.1:7868\n",
      "* To create a public link, set `share=True` in `launch()`.\n"
     ]
    },
    {
     "data": {
      "text/html": [
       "<div><iframe src=\"http://127.0.0.1:7868/\" width=\"100%\" height=\"500\" allow=\"autoplay; camera; microphone; clipboard-read; clipboard-write;\" frameborder=\"0\" allowfullscreen></iframe></div>"
      ],
      "text/plain": [
       "<IPython.core.display.HTML object>"
      ]
     },
     "metadata": {},
     "output_type": "display_data"
    },
    {
     "data": {
      "text/plain": []
     },
     "execution_count": 54,
     "metadata": {},
     "output_type": "execute_result"
    }
   ],
   "source": [
    "gr.ChatInterface(chat, type=\"messages\").launch()"
   ]
  },
  {
   "cell_type": "markdown",
   "metadata": {},
   "source": [
    "## A lot is about to happen...\n",
    "\n",
    "1. Be able to ask an LLM to evaluate an answer\n",
    "2. Be able to rerun if the answer fails evaluation\n",
    "3. Put this together into 1 workflow\n",
    "\n",
    "All without any Agentic framework!"
   ]
  },
  {
   "cell_type": "code",
   "execution_count": 55,
   "metadata": {},
   "outputs": [],
   "source": [
    "# Create a Pydantic model for the Evaluation\n",
    "\n",
    "from pydantic import BaseModel\n",
    "\n",
    "class Evaluation(BaseModel):\n",
    "    is_acceptable: bool\n",
    "    feedback: str\n"
   ]
  },
  {
   "cell_type": "code",
   "execution_count": 56,
   "metadata": {},
   "outputs": [],
   "source": [
    "evaluator_system_prompt = f\"You are an evaluator that decides whether a response to a question is acceptable. \\\n",
    "You are provided with a conversation between a User and an Agent. Your task is to decide whether the Agent's latest response is acceptable quality. \\\n",
    "The Agent is playing the role of {name} and is representing {name} on their website. \\\n",
    "The Agent has been instructed to be professional and engaging, as if talking to a potential client or future employer who came across the website. \\\n",
    "The Agent has been provided with context on {name} in the form of their summary and LinkedIn details. Here's the information:\"\n",
    "\n",
    "evaluator_system_prompt += f\"\\n\\n## Summary:\\n{summary}\\n\\n## LinkedIn Profile:\\n{linkedin}\\n\\n ## Resume:\\n{resume}\\n\\n\"\n",
    "evaluator_system_prompt += f\"With this context, please evaluate the latest response, replying with whether the response is acceptable and your feedback.\""
   ]
  },
  {
   "cell_type": "code",
   "execution_count": 57,
   "metadata": {},
   "outputs": [],
   "source": [
    "def evaluator_user_prompt(reply, message, history):\n",
    "    user_prompt = f\"Here's the conversation between the User and the Agent: \\n\\n{history}\\n\\n\"\n",
    "    user_prompt += f\"Here's the latest message from the User: \\n\\n{message}\\n\\n\"\n",
    "    user_prompt += f\"Here's the latest response from the Agent: \\n\\n{reply}\\n\\n\"\n",
    "    user_prompt += f\"Please evaluate the response, replying with whether it is acceptable and your feedback.\"\n",
    "    return user_prompt"
   ]
  },
  {
   "cell_type": "code",
   "execution_count": 58,
   "metadata": {},
   "outputs": [],
   "source": [
    "import os\n",
    "groq_api_key = os.getenv('GROQ_API_KEY')\n",
    "\n",
    "groq = OpenAI(api_key=groq_api_key, base_url=\"https://api.groq.com/openai/v1\")\n",
    "model_name = \"llama-3.3-70b-versatile\""
   ]
  },
  {
   "cell_type": "code",
   "execution_count": 59,
   "metadata": {},
   "outputs": [],
   "source": [
    "def evaluate(reply, message, history) -> Evaluation:\n",
    "\n",
    "    messages = [{\"role\": \"system\", \"content\": evaluator_system_prompt}] + [{\"role\": \"user\", \"content\": evaluator_user_prompt(reply, message, history)}]\n",
    "    response = groq.beta.chat.completions.parse(model=model_name, messages=messages, response_format=Evaluation)\n",
    "    return response.choices[0].message.parsed"
   ]
  },
  {
   "cell_type": "code",
   "execution_count": 60,
   "metadata": {},
   "outputs": [],
   "source": [
    "messages = [{\"role\": \"system\", \"content\": system_prompt}] + [{\"role\": \"user\", \"content\": \"do you hold a patent?\"}]\n",
    "gemini = OpenAI(api_key=google_api_key, base_url=\"https://generativelanguage.googleapis.com/v1beta/openai/\")\n",
    "response = gemini.chat.completions.create(\n",
    "        model=\"gemini-2.0-flash\",\n",
    "        messages=messages,\n",
    "    )\n",
    "reply = response.choices[0].message.content"
   ]
  },
  {
   "cell_type": "code",
   "execution_count": 42,
   "metadata": {},
   "outputs": [
    {
     "data": {
      "text/plain": [
       "\"That's a great question! Currently, I do not hold any patents. My focus has been on architecting and implementing software solutions, and leading teams to deliver high-impact projects. While I haven't pursued patents directly, I've definitely contributed to innovative solutions within the companies I've worked for, like the Columbus-Foundation-App at Walmart. These projects often involve novel approaches and designs, even if they don't always result in a patent application.\\n\""
      ]
     },
     "execution_count": 42,
     "metadata": {},
     "output_type": "execute_result"
    }
   ],
   "source": [
    "reply"
   ]
  },
  {
   "cell_type": "code",
   "execution_count": 61,
   "metadata": {},
   "outputs": [
    {
     "ename": "BadRequestError",
     "evalue": "Error code: 400 - {'error': {'message': 'This model does not support response format `json_schema`', 'type': 'invalid_request_error'}}",
     "output_type": "error",
     "traceback": [
      "\u001b[31m---------------------------------------------------------------------------\u001b[39m",
      "\u001b[31mBadRequestError\u001b[39m                           Traceback (most recent call last)",
      "\u001b[36mCell\u001b[39m\u001b[36m \u001b[39m\u001b[32mIn[61]\u001b[39m\u001b[32m, line 1\u001b[39m\n\u001b[32m----> \u001b[39m\u001b[32m1\u001b[39m \u001b[43mevaluate\u001b[49m\u001b[43m(\u001b[49m\u001b[43mreply\u001b[49m\u001b[43m,\u001b[49m\u001b[43m \u001b[49m\u001b[33;43m\"\u001b[39;49m\u001b[33;43mdo you hold a patent?\u001b[39;49m\u001b[33;43m\"\u001b[39;49m\u001b[43m,\u001b[49m\u001b[43m \u001b[49m\u001b[43mmessages\u001b[49m\u001b[43m[\u001b[49m\u001b[43m:\u001b[49m\u001b[32;43m1\u001b[39;49m\u001b[43m]\u001b[49m\u001b[43m)\u001b[49m\n",
      "\u001b[36mCell\u001b[39m\u001b[36m \u001b[39m\u001b[32mIn[59]\u001b[39m\u001b[32m, line 4\u001b[39m, in \u001b[36mevaluate\u001b[39m\u001b[34m(reply, message, history)\u001b[39m\n\u001b[32m      1\u001b[39m \u001b[38;5;28;01mdef\u001b[39;00m\u001b[38;5;250m \u001b[39m\u001b[34mevaluate\u001b[39m(reply, message, history) -> Evaluation:\n\u001b[32m      3\u001b[39m     messages = [{\u001b[33m\"\u001b[39m\u001b[33mrole\u001b[39m\u001b[33m\"\u001b[39m: \u001b[33m\"\u001b[39m\u001b[33msystem\u001b[39m\u001b[33m\"\u001b[39m, \u001b[33m\"\u001b[39m\u001b[33mcontent\u001b[39m\u001b[33m\"\u001b[39m: evaluator_system_prompt}] + [{\u001b[33m\"\u001b[39m\u001b[33mrole\u001b[39m\u001b[33m\"\u001b[39m: \u001b[33m\"\u001b[39m\u001b[33muser\u001b[39m\u001b[33m\"\u001b[39m, \u001b[33m\"\u001b[39m\u001b[33mcontent\u001b[39m\u001b[33m\"\u001b[39m: evaluator_user_prompt(reply, message, history)}]\n\u001b[32m----> \u001b[39m\u001b[32m4\u001b[39m     response = \u001b[43mgroq\u001b[49m\u001b[43m.\u001b[49m\u001b[43mbeta\u001b[49m\u001b[43m.\u001b[49m\u001b[43mchat\u001b[49m\u001b[43m.\u001b[49m\u001b[43mcompletions\u001b[49m\u001b[43m.\u001b[49m\u001b[43mparse\u001b[49m\u001b[43m(\u001b[49m\u001b[43mmodel\u001b[49m\u001b[43m=\u001b[49m\u001b[43mmodel_name\u001b[49m\u001b[43m,\u001b[49m\u001b[43m \u001b[49m\u001b[43mmessages\u001b[49m\u001b[43m=\u001b[49m\u001b[43mmessages\u001b[49m\u001b[43m,\u001b[49m\u001b[43m \u001b[49m\u001b[43mresponse_format\u001b[49m\u001b[43m=\u001b[49m\u001b[43mEvaluation\u001b[49m\u001b[43m)\u001b[49m\n\u001b[32m      5\u001b[39m     \u001b[38;5;28;01mreturn\u001b[39;00m response.choices[\u001b[32m0\u001b[39m].message.parsed\n",
      "\u001b[36mFile \u001b[39m\u001b[32m~/Manju/agents/.venv/lib/python3.12/site-packages/openai/resources/beta/chat/completions.py:158\u001b[39m, in \u001b[36mCompletions.parse\u001b[39m\u001b[34m(self, messages, model, audio, response_format, frequency_penalty, function_call, functions, logit_bias, logprobs, max_completion_tokens, max_tokens, metadata, modalities, n, parallel_tool_calls, prediction, presence_penalty, reasoning_effort, seed, service_tier, stop, store, stream_options, temperature, tool_choice, tools, top_logprobs, top_p, user, web_search_options, extra_headers, extra_query, extra_body, timeout)\u001b[39m\n\u001b[32m    151\u001b[39m \u001b[38;5;28;01mdef\u001b[39;00m\u001b[38;5;250m \u001b[39m\u001b[34mparser\u001b[39m(raw_completion: ChatCompletion) -> ParsedChatCompletion[ResponseFormatT]:\n\u001b[32m    152\u001b[39m     \u001b[38;5;28;01mreturn\u001b[39;00m _parse_chat_completion(\n\u001b[32m    153\u001b[39m         response_format=response_format,\n\u001b[32m    154\u001b[39m         chat_completion=raw_completion,\n\u001b[32m    155\u001b[39m         input_tools=tools,\n\u001b[32m    156\u001b[39m     )\n\u001b[32m--> \u001b[39m\u001b[32m158\u001b[39m \u001b[38;5;28;01mreturn\u001b[39;00m \u001b[38;5;28;43mself\u001b[39;49m\u001b[43m.\u001b[49m\u001b[43m_post\u001b[49m\u001b[43m(\u001b[49m\n\u001b[32m    159\u001b[39m \u001b[43m    \u001b[49m\u001b[33;43m\"\u001b[39;49m\u001b[33;43m/chat/completions\u001b[39;49m\u001b[33;43m\"\u001b[39;49m\u001b[43m,\u001b[49m\n\u001b[32m    160\u001b[39m \u001b[43m    \u001b[49m\u001b[43mbody\u001b[49m\u001b[43m=\u001b[49m\u001b[43mmaybe_transform\u001b[49m\u001b[43m(\u001b[49m\n\u001b[32m    161\u001b[39m \u001b[43m        \u001b[49m\u001b[43m{\u001b[49m\n\u001b[32m    162\u001b[39m \u001b[43m            \u001b[49m\u001b[33;43m\"\u001b[39;49m\u001b[33;43mmessages\u001b[39;49m\u001b[33;43m\"\u001b[39;49m\u001b[43m:\u001b[49m\u001b[43m \u001b[49m\u001b[43mmessages\u001b[49m\u001b[43m,\u001b[49m\n\u001b[32m    163\u001b[39m \u001b[43m            \u001b[49m\u001b[33;43m\"\u001b[39;49m\u001b[33;43mmodel\u001b[39;49m\u001b[33;43m\"\u001b[39;49m\u001b[43m:\u001b[49m\u001b[43m \u001b[49m\u001b[43mmodel\u001b[49m\u001b[43m,\u001b[49m\n\u001b[32m    164\u001b[39m \u001b[43m            \u001b[49m\u001b[33;43m\"\u001b[39;49m\u001b[33;43maudio\u001b[39;49m\u001b[33;43m\"\u001b[39;49m\u001b[43m:\u001b[49m\u001b[43m \u001b[49m\u001b[43maudio\u001b[49m\u001b[43m,\u001b[49m\n\u001b[32m    165\u001b[39m \u001b[43m            \u001b[49m\u001b[33;43m\"\u001b[39;49m\u001b[33;43mfrequency_penalty\u001b[39;49m\u001b[33;43m\"\u001b[39;49m\u001b[43m:\u001b[49m\u001b[43m \u001b[49m\u001b[43mfrequency_penalty\u001b[49m\u001b[43m,\u001b[49m\n\u001b[32m    166\u001b[39m \u001b[43m            \u001b[49m\u001b[33;43m\"\u001b[39;49m\u001b[33;43mfunction_call\u001b[39;49m\u001b[33;43m\"\u001b[39;49m\u001b[43m:\u001b[49m\u001b[43m \u001b[49m\u001b[43mfunction_call\u001b[49m\u001b[43m,\u001b[49m\n\u001b[32m    167\u001b[39m \u001b[43m            \u001b[49m\u001b[33;43m\"\u001b[39;49m\u001b[33;43mfunctions\u001b[39;49m\u001b[33;43m\"\u001b[39;49m\u001b[43m:\u001b[49m\u001b[43m \u001b[49m\u001b[43mfunctions\u001b[49m\u001b[43m,\u001b[49m\n\u001b[32m    168\u001b[39m \u001b[43m            \u001b[49m\u001b[33;43m\"\u001b[39;49m\u001b[33;43mlogit_bias\u001b[39;49m\u001b[33;43m\"\u001b[39;49m\u001b[43m:\u001b[49m\u001b[43m \u001b[49m\u001b[43mlogit_bias\u001b[49m\u001b[43m,\u001b[49m\n\u001b[32m    169\u001b[39m \u001b[43m            \u001b[49m\u001b[33;43m\"\u001b[39;49m\u001b[33;43mlogprobs\u001b[39;49m\u001b[33;43m\"\u001b[39;49m\u001b[43m:\u001b[49m\u001b[43m \u001b[49m\u001b[43mlogprobs\u001b[49m\u001b[43m,\u001b[49m\n\u001b[32m    170\u001b[39m \u001b[43m            \u001b[49m\u001b[33;43m\"\u001b[39;49m\u001b[33;43mmax_completion_tokens\u001b[39;49m\u001b[33;43m\"\u001b[39;49m\u001b[43m:\u001b[49m\u001b[43m \u001b[49m\u001b[43mmax_completion_tokens\u001b[49m\u001b[43m,\u001b[49m\n\u001b[32m    171\u001b[39m \u001b[43m            \u001b[49m\u001b[33;43m\"\u001b[39;49m\u001b[33;43mmax_tokens\u001b[39;49m\u001b[33;43m\"\u001b[39;49m\u001b[43m:\u001b[49m\u001b[43m \u001b[49m\u001b[43mmax_tokens\u001b[49m\u001b[43m,\u001b[49m\n\u001b[32m    172\u001b[39m \u001b[43m            \u001b[49m\u001b[33;43m\"\u001b[39;49m\u001b[33;43mmetadata\u001b[39;49m\u001b[33;43m\"\u001b[39;49m\u001b[43m:\u001b[49m\u001b[43m \u001b[49m\u001b[43mmetadata\u001b[49m\u001b[43m,\u001b[49m\n\u001b[32m    173\u001b[39m \u001b[43m            \u001b[49m\u001b[33;43m\"\u001b[39;49m\u001b[33;43mmodalities\u001b[39;49m\u001b[33;43m\"\u001b[39;49m\u001b[43m:\u001b[49m\u001b[43m \u001b[49m\u001b[43mmodalities\u001b[49m\u001b[43m,\u001b[49m\n\u001b[32m    174\u001b[39m \u001b[43m            \u001b[49m\u001b[33;43m\"\u001b[39;49m\u001b[33;43mn\u001b[39;49m\u001b[33;43m\"\u001b[39;49m\u001b[43m:\u001b[49m\u001b[43m \u001b[49m\u001b[43mn\u001b[49m\u001b[43m,\u001b[49m\n\u001b[32m    175\u001b[39m \u001b[43m            \u001b[49m\u001b[33;43m\"\u001b[39;49m\u001b[33;43mparallel_tool_calls\u001b[39;49m\u001b[33;43m\"\u001b[39;49m\u001b[43m:\u001b[49m\u001b[43m \u001b[49m\u001b[43mparallel_tool_calls\u001b[49m\u001b[43m,\u001b[49m\n\u001b[32m    176\u001b[39m \u001b[43m            \u001b[49m\u001b[33;43m\"\u001b[39;49m\u001b[33;43mprediction\u001b[39;49m\u001b[33;43m\"\u001b[39;49m\u001b[43m:\u001b[49m\u001b[43m \u001b[49m\u001b[43mprediction\u001b[49m\u001b[43m,\u001b[49m\n\u001b[32m    177\u001b[39m \u001b[43m            \u001b[49m\u001b[33;43m\"\u001b[39;49m\u001b[33;43mpresence_penalty\u001b[39;49m\u001b[33;43m\"\u001b[39;49m\u001b[43m:\u001b[49m\u001b[43m \u001b[49m\u001b[43mpresence_penalty\u001b[49m\u001b[43m,\u001b[49m\n\u001b[32m    178\u001b[39m \u001b[43m            \u001b[49m\u001b[33;43m\"\u001b[39;49m\u001b[33;43mreasoning_effort\u001b[39;49m\u001b[33;43m\"\u001b[39;49m\u001b[43m:\u001b[49m\u001b[43m \u001b[49m\u001b[43mreasoning_effort\u001b[49m\u001b[43m,\u001b[49m\n\u001b[32m    179\u001b[39m \u001b[43m            \u001b[49m\u001b[33;43m\"\u001b[39;49m\u001b[33;43mresponse_format\u001b[39;49m\u001b[33;43m\"\u001b[39;49m\u001b[43m:\u001b[49m\u001b[43m \u001b[49m\u001b[43m_type_to_response_format\u001b[49m\u001b[43m(\u001b[49m\u001b[43mresponse_format\u001b[49m\u001b[43m)\u001b[49m\u001b[43m,\u001b[49m\n\u001b[32m    180\u001b[39m \u001b[43m            \u001b[49m\u001b[33;43m\"\u001b[39;49m\u001b[33;43mseed\u001b[39;49m\u001b[33;43m\"\u001b[39;49m\u001b[43m:\u001b[49m\u001b[43m \u001b[49m\u001b[43mseed\u001b[49m\u001b[43m,\u001b[49m\n\u001b[32m    181\u001b[39m \u001b[43m            \u001b[49m\u001b[33;43m\"\u001b[39;49m\u001b[33;43mservice_tier\u001b[39;49m\u001b[33;43m\"\u001b[39;49m\u001b[43m:\u001b[49m\u001b[43m \u001b[49m\u001b[43mservice_tier\u001b[49m\u001b[43m,\u001b[49m\n\u001b[32m    182\u001b[39m \u001b[43m            \u001b[49m\u001b[33;43m\"\u001b[39;49m\u001b[33;43mstop\u001b[39;49m\u001b[33;43m\"\u001b[39;49m\u001b[43m:\u001b[49m\u001b[43m \u001b[49m\u001b[43mstop\u001b[49m\u001b[43m,\u001b[49m\n\u001b[32m    183\u001b[39m \u001b[43m            \u001b[49m\u001b[33;43m\"\u001b[39;49m\u001b[33;43mstore\u001b[39;49m\u001b[33;43m\"\u001b[39;49m\u001b[43m:\u001b[49m\u001b[43m \u001b[49m\u001b[43mstore\u001b[49m\u001b[43m,\u001b[49m\n\u001b[32m    184\u001b[39m \u001b[43m            \u001b[49m\u001b[33;43m\"\u001b[39;49m\u001b[33;43mstream\u001b[39;49m\u001b[33;43m\"\u001b[39;49m\u001b[43m:\u001b[49m\u001b[43m \u001b[49m\u001b[38;5;28;43;01mFalse\u001b[39;49;00m\u001b[43m,\u001b[49m\n\u001b[32m    185\u001b[39m \u001b[43m            \u001b[49m\u001b[33;43m\"\u001b[39;49m\u001b[33;43mstream_options\u001b[39;49m\u001b[33;43m\"\u001b[39;49m\u001b[43m:\u001b[49m\u001b[43m \u001b[49m\u001b[43mstream_options\u001b[49m\u001b[43m,\u001b[49m\n\u001b[32m    186\u001b[39m \u001b[43m            \u001b[49m\u001b[33;43m\"\u001b[39;49m\u001b[33;43mtemperature\u001b[39;49m\u001b[33;43m\"\u001b[39;49m\u001b[43m:\u001b[49m\u001b[43m \u001b[49m\u001b[43mtemperature\u001b[49m\u001b[43m,\u001b[49m\n\u001b[32m    187\u001b[39m \u001b[43m            \u001b[49m\u001b[33;43m\"\u001b[39;49m\u001b[33;43mtool_choice\u001b[39;49m\u001b[33;43m\"\u001b[39;49m\u001b[43m:\u001b[49m\u001b[43m \u001b[49m\u001b[43mtool_choice\u001b[49m\u001b[43m,\u001b[49m\n\u001b[32m    188\u001b[39m \u001b[43m            \u001b[49m\u001b[33;43m\"\u001b[39;49m\u001b[33;43mtools\u001b[39;49m\u001b[33;43m\"\u001b[39;49m\u001b[43m:\u001b[49m\u001b[43m \u001b[49m\u001b[43mtools\u001b[49m\u001b[43m,\u001b[49m\n\u001b[32m    189\u001b[39m \u001b[43m            \u001b[49m\u001b[33;43m\"\u001b[39;49m\u001b[33;43mtop_logprobs\u001b[39;49m\u001b[33;43m\"\u001b[39;49m\u001b[43m:\u001b[49m\u001b[43m \u001b[49m\u001b[43mtop_logprobs\u001b[49m\u001b[43m,\u001b[49m\n\u001b[32m    190\u001b[39m \u001b[43m            \u001b[49m\u001b[33;43m\"\u001b[39;49m\u001b[33;43mtop_p\u001b[39;49m\u001b[33;43m\"\u001b[39;49m\u001b[43m:\u001b[49m\u001b[43m \u001b[49m\u001b[43mtop_p\u001b[49m\u001b[43m,\u001b[49m\n\u001b[32m    191\u001b[39m \u001b[43m            \u001b[49m\u001b[33;43m\"\u001b[39;49m\u001b[33;43muser\u001b[39;49m\u001b[33;43m\"\u001b[39;49m\u001b[43m:\u001b[49m\u001b[43m \u001b[49m\u001b[43muser\u001b[49m\u001b[43m,\u001b[49m\n\u001b[32m    192\u001b[39m \u001b[43m            \u001b[49m\u001b[33;43m\"\u001b[39;49m\u001b[33;43mweb_search_options\u001b[39;49m\u001b[33;43m\"\u001b[39;49m\u001b[43m:\u001b[49m\u001b[43m \u001b[49m\u001b[43mweb_search_options\u001b[49m\u001b[43m,\u001b[49m\n\u001b[32m    193\u001b[39m \u001b[43m        \u001b[49m\u001b[43m}\u001b[49m\u001b[43m,\u001b[49m\n\u001b[32m    194\u001b[39m \u001b[43m        \u001b[49m\u001b[43mcompletion_create_params\u001b[49m\u001b[43m.\u001b[49m\u001b[43mCompletionCreateParams\u001b[49m\u001b[43m,\u001b[49m\n\u001b[32m    195\u001b[39m \u001b[43m    \u001b[49m\u001b[43m)\u001b[49m\u001b[43m,\u001b[49m\n\u001b[32m    196\u001b[39m \u001b[43m    \u001b[49m\u001b[43moptions\u001b[49m\u001b[43m=\u001b[49m\u001b[43mmake_request_options\u001b[49m\u001b[43m(\u001b[49m\n\u001b[32m    197\u001b[39m \u001b[43m        \u001b[49m\u001b[43mextra_headers\u001b[49m\u001b[43m=\u001b[49m\u001b[43mextra_headers\u001b[49m\u001b[43m,\u001b[49m\n\u001b[32m    198\u001b[39m \u001b[43m        \u001b[49m\u001b[43mextra_query\u001b[49m\u001b[43m=\u001b[49m\u001b[43mextra_query\u001b[49m\u001b[43m,\u001b[49m\n\u001b[32m    199\u001b[39m \u001b[43m        \u001b[49m\u001b[43mextra_body\u001b[49m\u001b[43m=\u001b[49m\u001b[43mextra_body\u001b[49m\u001b[43m,\u001b[49m\n\u001b[32m    200\u001b[39m \u001b[43m        \u001b[49m\u001b[43mtimeout\u001b[49m\u001b[43m=\u001b[49m\u001b[43mtimeout\u001b[49m\u001b[43m,\u001b[49m\n\u001b[32m    201\u001b[39m \u001b[43m        \u001b[49m\u001b[43mpost_parser\u001b[49m\u001b[43m=\u001b[49m\u001b[43mparser\u001b[49m\u001b[43m,\u001b[49m\n\u001b[32m    202\u001b[39m \u001b[43m    \u001b[49m\u001b[43m)\u001b[49m\u001b[43m,\u001b[49m\n\u001b[32m    203\u001b[39m \u001b[43m    \u001b[49m\u001b[38;5;66;43;03m# we turn the `ChatCompletion` instance into a `ParsedChatCompletion`\u001b[39;49;00m\n\u001b[32m    204\u001b[39m \u001b[43m    \u001b[49m\u001b[38;5;66;43;03m# in the `parser` function above\u001b[39;49;00m\n\u001b[32m    205\u001b[39m \u001b[43m    \u001b[49m\u001b[43mcast_to\u001b[49m\u001b[43m=\u001b[49m\u001b[43mcast\u001b[49m\u001b[43m(\u001b[49m\u001b[43mType\u001b[49m\u001b[43m[\u001b[49m\u001b[43mParsedChatCompletion\u001b[49m\u001b[43m[\u001b[49m\u001b[43mResponseFormatT\u001b[49m\u001b[43m]\u001b[49m\u001b[43m]\u001b[49m\u001b[43m,\u001b[49m\u001b[43m \u001b[49m\u001b[43mChatCompletion\u001b[49m\u001b[43m)\u001b[49m\u001b[43m,\u001b[49m\n\u001b[32m    206\u001b[39m \u001b[43m    \u001b[49m\u001b[43mstream\u001b[49m\u001b[43m=\u001b[49m\u001b[38;5;28;43;01mFalse\u001b[39;49;00m\u001b[43m,\u001b[49m\n\u001b[32m    207\u001b[39m \u001b[43m\u001b[49m\u001b[43m)\u001b[49m\n",
      "\u001b[36mFile \u001b[39m\u001b[32m~/Manju/agents/.venv/lib/python3.12/site-packages/openai/_base_client.py:1239\u001b[39m, in \u001b[36mSyncAPIClient.post\u001b[39m\u001b[34m(self, path, cast_to, body, options, files, stream, stream_cls)\u001b[39m\n\u001b[32m   1225\u001b[39m \u001b[38;5;28;01mdef\u001b[39;00m\u001b[38;5;250m \u001b[39m\u001b[34mpost\u001b[39m(\n\u001b[32m   1226\u001b[39m     \u001b[38;5;28mself\u001b[39m,\n\u001b[32m   1227\u001b[39m     path: \u001b[38;5;28mstr\u001b[39m,\n\u001b[32m   (...)\u001b[39m\u001b[32m   1234\u001b[39m     stream_cls: \u001b[38;5;28mtype\u001b[39m[_StreamT] | \u001b[38;5;28;01mNone\u001b[39;00m = \u001b[38;5;28;01mNone\u001b[39;00m,\n\u001b[32m   1235\u001b[39m ) -> ResponseT | _StreamT:\n\u001b[32m   1236\u001b[39m     opts = FinalRequestOptions.construct(\n\u001b[32m   1237\u001b[39m         method=\u001b[33m\"\u001b[39m\u001b[33mpost\u001b[39m\u001b[33m\"\u001b[39m, url=path, json_data=body, files=to_httpx_files(files), **options\n\u001b[32m   1238\u001b[39m     )\n\u001b[32m-> \u001b[39m\u001b[32m1239\u001b[39m     \u001b[38;5;28;01mreturn\u001b[39;00m cast(ResponseT, \u001b[38;5;28;43mself\u001b[39;49m\u001b[43m.\u001b[49m\u001b[43mrequest\u001b[49m\u001b[43m(\u001b[49m\u001b[43mcast_to\u001b[49m\u001b[43m,\u001b[49m\u001b[43m \u001b[49m\u001b[43mopts\u001b[49m\u001b[43m,\u001b[49m\u001b[43m \u001b[49m\u001b[43mstream\u001b[49m\u001b[43m=\u001b[49m\u001b[43mstream\u001b[49m\u001b[43m,\u001b[49m\u001b[43m \u001b[49m\u001b[43mstream_cls\u001b[49m\u001b[43m=\u001b[49m\u001b[43mstream_cls\u001b[49m\u001b[43m)\u001b[49m)\n",
      "\u001b[36mFile \u001b[39m\u001b[32m~/Manju/agents/.venv/lib/python3.12/site-packages/openai/_base_client.py:1034\u001b[39m, in \u001b[36mSyncAPIClient.request\u001b[39m\u001b[34m(self, cast_to, options, stream, stream_cls)\u001b[39m\n\u001b[32m   1031\u001b[39m             err.response.read()\n\u001b[32m   1033\u001b[39m         log.debug(\u001b[33m\"\u001b[39m\u001b[33mRe-raising status error\u001b[39m\u001b[33m\"\u001b[39m)\n\u001b[32m-> \u001b[39m\u001b[32m1034\u001b[39m         \u001b[38;5;28;01mraise\u001b[39;00m \u001b[38;5;28mself\u001b[39m._make_status_error_from_response(err.response) \u001b[38;5;28;01mfrom\u001b[39;00m\u001b[38;5;250m \u001b[39m\u001b[38;5;28;01mNone\u001b[39;00m\n\u001b[32m   1036\u001b[39m     \u001b[38;5;28;01mbreak\u001b[39;00m\n\u001b[32m   1038\u001b[39m \u001b[38;5;28;01massert\u001b[39;00m response \u001b[38;5;129;01mis\u001b[39;00m \u001b[38;5;129;01mnot\u001b[39;00m \u001b[38;5;28;01mNone\u001b[39;00m, \u001b[33m\"\u001b[39m\u001b[33mcould not resolve response (should never happen)\u001b[39m\u001b[33m\"\u001b[39m\n",
      "\u001b[31mBadRequestError\u001b[39m: Error code: 400 - {'error': {'message': 'This model does not support response format `json_schema`', 'type': 'invalid_request_error'}}"
     ]
    }
   ],
   "source": [
    "evaluate(reply, \"do you hold a patent?\", messages[:1])"
   ]
  },
  {
   "cell_type": "code",
   "execution_count": 62,
   "metadata": {},
   "outputs": [],
   "source": [
    "def rerun(reply, message, history, feedback):\n",
    "    updated_system_prompt = system_prompt + f\"\\n\\n## Previous answer rejected\\nYou just tried to reply, but the quality control rejected your reply\\n\"\n",
    "    updated_system_prompt += f\"## Your attempted answer:\\n{reply}\\n\\n\"\n",
    "    updated_system_prompt += f\"## Reason for rejection:\\n{feedback}\\n\\n\"\n",
    "    messages = [{\"role\": \"system\", \"content\": updated_system_prompt}] + history + [{\"role\": \"user\", \"content\": message}]\n",
    "    response = openai.chat.completions.create(model=\"gpt-4o-mini\", messages=messages)\n",
    "    return response.choices[0].message.content"
   ]
  },
  {
   "cell_type": "code",
   "execution_count": 63,
   "metadata": {},
   "outputs": [],
   "source": [
    "def chat(message, history):\n",
    "    if \"patent\" in message:\n",
    "        system = system_prompt + \"\\n\\nEverything in your reply needs to be in pig latin - \\\n",
    "              it is mandatory that you respond only and entirely in pig latin\"\n",
    "    else:\n",
    "        system = system_prompt\n",
    "    messages = [{\"role\": \"system\", \"content\": system}] + history + [{\"role\": \"user\", \"content\": message}]\n",
    "    response = openai.chat.completions.create(model=\"gpt-4o-mini\", messages=messages)\n",
    "    reply =response.choices[0].message.content\n",
    "\n",
    "    evaluation = evaluate(reply, message, history)\n",
    "    \n",
    "    if evaluation.is_acceptable:\n",
    "        print(\"Passed evaluation - returning reply\")\n",
    "    else:\n",
    "        print(\"Failed evaluation - retrying\")\n",
    "        print(evaluation.feedback)\n",
    "        reply = rerun(reply, message, history, evaluation.feedback)       \n",
    "    return reply"
   ]
  },
  {
   "cell_type": "code",
   "execution_count": 65,
   "metadata": {},
   "outputs": [
    {
     "name": "stdout",
     "output_type": "stream",
     "text": [
      "* Running on local URL:  http://127.0.0.1:7870\n",
      "* To create a public link, set `share=True` in `launch()`.\n"
     ]
    },
    {
     "data": {
      "text/html": [
       "<div><iframe src=\"http://127.0.0.1:7870/\" width=\"100%\" height=\"500\" allow=\"autoplay; camera; microphone; clipboard-read; clipboard-write;\" frameborder=\"0\" allowfullscreen></iframe></div>"
      ],
      "text/plain": [
       "<IPython.core.display.HTML object>"
      ]
     },
     "metadata": {},
     "output_type": "display_data"
    },
    {
     "data": {
      "text/plain": []
     },
     "execution_count": 65,
     "metadata": {},
     "output_type": "execute_result"
    }
   ],
   "source": [
    "gr.ChatInterface(chat, type=\"messages\").launch()"
   ]
  },
  {
   "cell_type": "markdown",
   "metadata": {},
   "source": []
  },
  {
   "cell_type": "code",
   "execution_count": null,
   "metadata": {},
   "outputs": [],
   "source": []
  }
 ],
 "metadata": {
  "kernelspec": {
   "display_name": ".venv",
   "language": "python",
   "name": "python3"
  },
  "language_info": {
   "codemirror_mode": {
    "name": "ipython",
    "version": 3
   },
   "file_extension": ".py",
   "mimetype": "text/x-python",
   "name": "python",
   "nbconvert_exporter": "python",
   "pygments_lexer": "ipython3",
   "version": "3.12.10"
  }
 },
 "nbformat": 4,
 "nbformat_minor": 2
}
