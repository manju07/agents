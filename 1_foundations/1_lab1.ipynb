{
 "cells": [
  {
   "cell_type": "markdown",
   "metadata": {},
   "source": [
    "# Welcome to the start of your adventure in Agentic AI"
   ]
  },
  {
   "cell_type": "markdown",
   "metadata": {},
   "source": [
    "<table style=\"margin: 0; text-align: left; width:100%\">\n",
    "    <tr>\n",
    "        <td style=\"width: 150px; height: 150px; vertical-align: middle;\">\n",
    "            <img src=\"../assets/stop.png\" width=\"150\" height=\"150\" style=\"display: block;\" />\n",
    "        </td>\n",
    "        <td>\n",
    "            <h2 style=\"color:#ff7800;\">Are you ready for action??</h2>\n",
    "            <span style=\"color:#ff7800;\">Have you completed all the setup steps in the <a href=\"../setup/\">setup</a> folder?<br/>\n",
    "            Have you checked out the guides in the <a href=\"../guides/01_intro.ipynb\">guides</a> folder?<br/>\n",
    "            Well in that case, you're ready!!\n",
    "            </span>\n",
    "        </td>\n",
    "    </tr>\n",
    "</table>"
   ]
  },
  {
   "cell_type": "markdown",
   "metadata": {},
   "source": [
    "<table style=\"margin: 0; text-align: left; width:100%\">\n",
    "    <tr>\n",
    "        <td style=\"width: 150px; height: 150px; vertical-align: middle;\">\n",
    "            <img src=\"../assets/tools.png\" width=\"150\" height=\"150\" style=\"display: block;\" />\n",
    "        </td>\n",
    "        <td>\n",
    "            <h2 style=\"color:#00bfff;\">This code is a live resource - keep an eye out for my updates</h2>\n",
    "            <span style=\"color:#00bfff;\">I push updates regularly. As people ask questions or have problems, I add more examples and improve explanations. As a result, the code below might not be identical to the videos, as I've added more steps and better comments. Consider this like an interactive book that accompanies the lectures.<br/><br/>\n",
    "            I try to send emails regularly with important updates related to the course. You can find this in the 'Announcements' section of Udemy in the left sidebar. You can also choose to receive my emails via your Notification Settings in Udemy. I'm respectful of your inbox and always try to add value with my emails!\n",
    "            </span>\n",
    "        </td>\n",
    "    </tr>\n",
    "</table>"
   ]
  },
  {
   "cell_type": "markdown",
   "metadata": {},
   "source": [
    "### And please do remember to contact me if I can help\n",
    "\n",
    "And I love to connect: https://www.linkedin.com/in/eddonner/\n",
    "\n",
    "\n",
    "### New to Notebooks like this one? Head over to the guides folder!\n",
    "\n",
    "Just to check you've already added the Python and Jupyter extensions to Cursor, if not already installed:\n",
    "- Open extensions (View >> extensions)\n",
    "- Search for python, and when the results show, click on the ms-python one, and Install it if not already installed\n",
    "- Search for jupyter, and when the results show, click on the Microsoft one, and Install it if not already installed  \n",
    "Then View >> Explorer to bring back the File Explorer.\n",
    "\n",
    "And then:\n",
    "1. Click where it says \"Select Kernel\" near the top right, and select the option called `.venv (Python 3.12.9)` or similar, which should be the first choice or the most prominent choice. You may need to choose \"Python Environments\" first.\n",
    "2. Click in each \"cell\" below, starting with the cell immediately below this text, and press Shift+Enter to run\n",
    "3. Enjoy!\n",
    "\n",
    "After you click \"Select Kernel\", if there is no option like `.venv (Python 3.12.9)` then please do the following:  \n",
    "1. On Mac: From the Cursor menu, choose Settings >> VS Code Settings (NOTE: be sure to select `VSCode Settings` not `Cursor Settings`);  \n",
    "On Windows PC: From the File menu, choose Preferences >> VS Code Settings(NOTE: be sure to select `VSCode Settings` not `Cursor Settings`)  \n",
    "2. In the Settings search bar, type \"venv\"  \n",
    "3. In the field \"Path to folder with a list of Virtual Environments\" put the path to the project root, like C:\\Users\\username\\projects\\agents (on a Windows PC) or /Users/username/projects/agents (on Mac or Linux).  \n",
    "And then try again.\n",
    "\n",
    "Having problems with missing Python versions in that list? Have you ever used Anaconda before? It might be interferring. Quit Cursor, bring up a new command line, and make sure that your Anaconda environment is deactivated:    \n",
    "`conda deactivate`  \n",
    "And if you still have any problems with conda and python versions, it's possible that you will need to run this too:  \n",
    "`conda config --set auto_activate_base false`  \n",
    "and then from within the Agents directory, you should be able to run `uv python list` and see the Python 3.12 version."
   ]
  },
  {
   "cell_type": "code",
   "execution_count": 1,
   "metadata": {},
   "outputs": [],
   "source": [
    "# First let's do an import\n",
    "from dotenv import load_dotenv\n"
   ]
  },
  {
   "cell_type": "code",
   "execution_count": 2,
   "metadata": {},
   "outputs": [
    {
     "data": {
      "text/plain": [
       "True"
      ]
     },
     "execution_count": 2,
     "metadata": {},
     "output_type": "execute_result"
    }
   ],
   "source": [
    "# Next it's time to load the API keys into environment variables\n",
    "\n",
    "load_dotenv(override=True)"
   ]
  },
  {
   "cell_type": "code",
   "execution_count": 3,
   "metadata": {},
   "outputs": [
    {
     "name": "stdout",
     "output_type": "stream",
     "text": [
      "OpenAI API Key exists and begins sk-proj-\n"
     ]
    }
   ],
   "source": [
    "# Check the keys\n",
    "\n",
    "import os\n",
    "openai_api_key = os.getenv('OPENAI_API_KEY')\n",
    "\n",
    "if openai_api_key:\n",
    "    print(f\"OpenAI API Key exists and begins {openai_api_key[:8]}\")\n",
    "else:\n",
    "    print(\"OpenAI API Key not set - please head to the troubleshooting guide in the setup folder\")\n",
    "    \n"
   ]
  },
  {
   "cell_type": "code",
   "execution_count": 4,
   "metadata": {},
   "outputs": [],
   "source": [
    "# And now - the all important import statement\n",
    "# If you get an import error - head over to troubleshooting guide\n",
    "\n",
    "from openai import OpenAI"
   ]
  },
  {
   "cell_type": "code",
   "execution_count": 5,
   "metadata": {},
   "outputs": [],
   "source": [
    "# And now we'll create an instance of the OpenAI class\n",
    "# If you're not sure what it means to create an instance of a class - head over to the guides folder!\n",
    "# If you get a NameError - head over to the guides folder to learn about NameErrors\n",
    "\n",
    "openai = OpenAI()"
   ]
  },
  {
   "cell_type": "code",
   "execution_count": 6,
   "metadata": {},
   "outputs": [],
   "source": [
    "# Create a list of messages in the familiar OpenAI format\n",
    "\n",
    "messages = [{\"role\": \"user\", \"content\": \"What is 2+2?\"}]"
   ]
  },
  {
   "cell_type": "code",
   "execution_count": 7,
   "metadata": {},
   "outputs": [
    {
     "name": "stdout",
     "output_type": "stream",
     "text": [
      "2 + 2 equals 4.\n"
     ]
    }
   ],
   "source": [
    "# And now call it! Any problems, head to the troubleshooting guide\n",
    "# This uses GPT 4.1 nano, the incredibly cheap model\n",
    "\n",
    "response = openai.chat.completions.create(\n",
    "    model=\"gpt-4o-mini\",\n",
    "    messages=messages\n",
    ")\n",
    "\n",
    "print(response.choices[0].message.content)\n"
   ]
  },
  {
   "cell_type": "code",
   "execution_count": 8,
   "metadata": {},
   "outputs": [],
   "source": [
    "# And now - let's ask for a question:\n",
    "\n",
    "question = \"Please propose a hard, challenging question to assess someone's IQ. Respond only with the question.\"\n",
    "messages = [{\"role\": \"user\", \"content\": question}]\n"
   ]
  },
  {
   "cell_type": "code",
   "execution_count": 9,
   "metadata": {},
   "outputs": [
    {
     "name": "stdout",
     "output_type": "stream",
     "text": [
      "If it takes 5 machines 5 minutes to make 5 widgets, how long would it take 100 machines to make 100 widgets?\n"
     ]
    }
   ],
   "source": [
    "# ask it - this uses GPT 4.1 mini, still cheap but more powerful than nano\n",
    "\n",
    "response = openai.chat.completions.create(\n",
    "    model=\"gpt-4.1-mini\",\n",
    "    messages=messages\n",
    ")\n",
    "\n",
    "question = response.choices[0].message.content\n",
    "\n",
    "print(question)\n"
   ]
  },
  {
   "cell_type": "code",
   "execution_count": 12,
   "metadata": {},
   "outputs": [],
   "source": [
    "# form a new messages list\n",
    "messages = [{\"role\": \"user\", \"content\": question}]\n"
   ]
  },
  {
   "cell_type": "code",
   "execution_count": 15,
   "metadata": {},
   "outputs": [
    {
     "name": "stdout",
     "output_type": "stream",
     "text": [
      "Let's analyze the problem step-by-step:\n",
      "\n",
      "- It takes **5 machines 5 minutes to make 5 widgets**.\n",
      "- This means **5 machines produce 5 widgets in 5 minutes**.\n",
      "- Therefore, **1 machine produces 1 widget in 5 minutes** (since the machines are working at the same rate).\n",
      "\n",
      "Now the question:\n",
      "\n",
      "- How long would it take **100 machines to make 100 widgets**?\n",
      "\n",
      "Since 1 machine makes 1 widget in 5 minutes, 100 machines can make 100 widgets in the same 5 minutes (because each machine makes its own widget simultaneously).\n",
      "\n",
      "**Answer: 5 minutes.**\n"
     ]
    }
   ],
   "source": [
    "# Ask it again\n",
    "\n",
    "response = openai.chat.completions.create(\n",
    "    model=\"gpt-4.1-mini\",\n",
    "    messages=messages\n",
    ")\n",
    "\n",
    "answer = response.choices[0].message.content\n",
    "print(answer)\n"
   ]
  },
  {
   "cell_type": "code",
   "execution_count": 17,
   "metadata": {},
   "outputs": [
    {
     "data": {
      "text/markdown": [
       "Let's analyze the problem step-by-step:\n",
       "\n",
       "- It takes **5 machines 5 minutes to make 5 widgets**.\n",
       "- This means **5 machines produce 5 widgets in 5 minutes**.\n",
       "- Therefore, **1 machine produces 1 widget in 5 minutes** (since the machines are working at the same rate).\n",
       "\n",
       "Now the question:\n",
       "\n",
       "- How long would it take **100 machines to make 100 widgets**?\n",
       "\n",
       "Since 1 machine makes 1 widget in 5 minutes, 100 machines can make 100 widgets in the same 5 minutes (because each machine makes its own widget simultaneously).\n",
       "\n",
       "**Answer: 5 minutes.**"
      ],
      "text/plain": [
       "<IPython.core.display.Markdown object>"
      ]
     },
     "metadata": {},
     "output_type": "display_data"
    }
   ],
   "source": [
    "from IPython.display import Markdown, display\n",
    "\n",
    "display(Markdown(answer))\n",
    "\n"
   ]
  },
  {
   "cell_type": "markdown",
   "metadata": {},
   "source": [
    "# Congratulations!\n",
    "\n",
    "That was a small, simple step in the direction of Agentic AI, with your new environment!\n",
    "\n",
    "Next time things get more interesting..."
   ]
  },
  {
   "cell_type": "markdown",
   "metadata": {},
   "source": [
    "<table style=\"margin: 0; text-align: left; width:100%\">\n",
    "    <tr>\n",
    "        <td style=\"width: 150px; height: 150px; vertical-align: middle;\">\n",
    "            <img src=\"../assets/exercise.png\" width=\"150\" height=\"150\" style=\"display: block;\" />\n",
    "        </td>\n",
    "        <td>\n",
    "            <h2 style=\"color:#ff7800;\">Exercise</h2>\n",
    "            <span style=\"color:#ff7800;\">Now try this commercial application:<br/>\n",
    "            First ask the LLM to pick a business area that might be worth exploring for an Agentic AI opportunity.<br/>\n",
    "            Then ask the LLM to present a pain-point in that industry - something challenging that might be ripe for an Agentic solution.<br/>\n",
    "            Finally have 3 third LLM call propose the Agentic AI solution.\n",
    "            </span>\n",
    "        </td>\n",
    "    </tr>\n",
    "</table>"
   ]
  },
  {
   "cell_type": "code",
   "execution_count": 19,
   "metadata": {},
   "outputs": [],
   "source": [
    "# First create the messages:\n",
    "\n",
    "messages = [{\"role\": \"user\", \"content\": \"pick a business area that might be worth exploring for an agentic AI\"}]\n",
    "\n",
    "# Then make the first call:\n",
    "\n",
    "response = openai.chat.completions.create(\n",
    "    model=\"gpt-4.1-mini\",\n",
    "    messages=messages\n",
    ")\n",
    "\n",
    "# Then read the business idea:\n",
    "\n",
    "business_idea = response.choices[0].message.content\n",
    "\n",
    "# And repeat!"
   ]
  },
  {
   "cell_type": "code",
   "execution_count": 22,
   "metadata": {},
   "outputs": [
    {
     "name": "stdout",
     "output_type": "stream",
     "text": [
      "You’ve identified a compelling pain point and opportunity for agentic AI in personalized healthcare management. To build on that, here are several specific use cases and domains within healthcare where agentic AI can be applied effectively:\n",
      "\n",
      "### 1. Chronic Disease Management\n",
      "- **Diabetes Care**: Continuously monitor glucose via wearables or implanted sensors, recommend insulin dose adjustments, diet, and exercise plans, and alert providers in case of hypoglycemia risk.\n",
      "- **Cardiovascular Diseases**: Track blood pressure, heart rate, and ECG data to predict potential events like arrhythmias or heart failure exacerbations and initiate preventive interventions.\n",
      "- **COPD and Asthma**: Monitor lung function indicators and environmental factors to prevent exacerbations by adjusting medication and lifestyle factors.\n",
      "\n",
      "### 2. Medication Adherence and Management\n",
      "- Automatically remind patients to take medications.\n",
      "- Detect potential adverse drug interactions based on current profiles.\n",
      "- Propose adjustments or alerts for prescription refills and changes.\n",
      "- Coordinate with pharmacies and healthcare providers for smooth medication management.\n",
      "\n",
      "### 3. Preventive Healthcare and Wellness Coaching\n",
      "- Create personalized lifestyle and nutrition plans based on continuous data streams and genetic predispositions.\n",
      "- Detect early symptoms or risk factors of chronic diseases.\n",
      "- Offer motivational nudges and behavioral change support to enhance patient engagement.\n",
      "\n",
      "### 4. Post-Operative and Rehabilitation Monitoring\n",
      "- Track recovery metrics and symptoms remotely.\n",
      "- Adjust rehabilitation plans dynamically based on patient progress.\n",
      "- Communicate with clinicians for timely interventions if complications arise.\n",
      "\n",
      "### 5. Emergency Response and Early Warning Systems\n",
      "- Identify sudden drastic changes in patient vitals that may signal emergencies.\n",
      "- Decide when to alert emergency services or caregivers autonomously.\n",
      "- Optimize triage and urgent care decision-making.\n",
      "\n",
      "### 6. Care Coordination and Administrative Automation\n",
      "- Automatically schedule doctor visits, diagnostic tests, and follow-ups.\n",
      "- Manage insurance claims and approvals proactively.\n",
      "- Facilitate communication among multiple healthcare providers for holistic patient care.\n",
      "\n",
      "---\n",
      "\n",
      "### Why Agentic AI Specifically?\n",
      "While current AI systems provide decision support, **agentic AI** would uniquely:\n",
      "\n",
      "- Autonomously navigate complex healthcare workflows.\n",
      "- Make context-aware, real-time decisions, adapt to new data.\n",
      "- Take independent meaningful actions (e.g., scheduling care or alerting providers).\n",
      "- Balance risk and benefit considering heterogeneous patient data.\n",
      "- Continuously learn from patient outcomes and feedback to improve over time.\n",
      "\n",
      "---\n",
      "\n",
      "### Summary\n",
      "Agentic AI’s autonomous and adaptive capabilities address significant pain points in healthcare such as fragmented care, delayed interventions, and high costs. Particularly for chronic disease management and preventive care, agentic AI can unlock higher personalization and proactivity than traditional AI or manual care models.\n",
      "\n",
      "If you want, I can help you narrow down a specific use case or roadmap for deploying agentic AI in healthcare!\n"
     ]
    }
   ],
   "source": [
    "messages = [{\"role\": \"user\", \"content\": \"Pain point in the industry \" + business_idea + \" where we can use agentic AI\"}]\n",
    "\n",
    "response = openai.chat.completions.create(\n",
    "    model=\"gpt-4.1-mini\",\n",
    "    messages=messages\n",
    ")\n",
    "\n",
    "pain_point = response.choices[0].message.content\n",
    "print(pain_point)"
   ]
  },
  {
   "cell_type": "code",
   "execution_count": 23,
   "metadata": {},
   "outputs": [
    {
     "name": "stdout",
     "output_type": "stream",
     "text": [
      "This is a very thoughtful and comprehensive outline of how agentic AI can revolutionize personalized healthcare management by autonomously driving better patient outcomes and operational efficiencies. I’d be happy to help you narrow down a specific high-impact use case or help design a deployment roadmap. Here are a few suggestions on next steps and how to focus your efforts:\n",
      "\n",
      "---\n",
      "\n",
      "### 1. Narrowing Down Use Cases\n",
      "\n",
      "**Option A: Focus on a Single Disease Domain**  \n",
      "- *Example*: Diabetes Care or Cardiovascular Disease Management  \n",
      "- Why: High prevalence, existing data ecosystem (wearables, glucose monitors, ECGs), clear outcomes to optimize (blood sugar, heart failure risk).  \n",
      "- Establishes a proof of concept with measurable impact on quality of life and healthcare costs.\n",
      "\n",
      "**Option B: Medication Adherence & Management Across Conditions**  \n",
      "- Why: Medication non-adherence is a widespread issue leading to poor outcomes. Agentic AI managing prescriptions, reminders, and alerts can have broad applicability and scalable impact.\n",
      "\n",
      "**Option C: Post-Operative Monitoring**  \n",
      "- Why: High risk of complications, straightforward monitoring parameters, significant cost savings through reduced readmissions.\n",
      "\n",
      "---\n",
      "\n",
      "### 2. Key Considerations for Implementation\n",
      "\n",
      "- **Data Integration**: Securely integrating multi-modal data sources (wearables, EHRs, labs) for holistic context.  \n",
      "- **Regulatory & Ethical Compliance**: Ensuring patient data privacy and safety, explainability of AI decisions, and adherence to healthcare standards (HIPAA, FDA, etc.).  \n",
      "- **Human-in-the-loop Model**: Determine when and how agentic AI escalates complex decisions to clinicians, balancing automation with oversight.  \n",
      "- **Interoperability**: Seamless communication between AI agents, providers, pharmacies, and patients.  \n",
      "- **Patient Engagement**: Designing intuitive and trust-building patient interfaces to improve adherence and data quality.\n",
      "\n",
      "---\n",
      "\n",
      "### 3. Roadmap Example for Diabetes Agentic AI\n",
      "\n",
      "| Phase | Goal | Activities | Outputs |\n",
      "|-|-|-|-|\n",
      "| 1. Discovery & Data Collection | Understand patient journeys and gather datasets | Partnerships with clinics, collect wearable, insulin, diet, and exercise data | Annotated datasets, patient personas |\n",
      "| 2. Model Development & Simulation | Build predictive models for glucose control, hypoglycemia, and behavioral nudges | Develop reinforcement learning or adaptive control algorithms | Prototype agentic AI models |\n",
      "| 3. Pilot Deployment | Deploy in small patient cohorts for real-time glucose management and insulin recommendations | Remote monitoring, feedback loops with clinicians | Evidence of safety, improved glucose control, patient satisfaction |\n",
      "| 4. Scaling & Integration | Integrate with EHR, pharmacy systems; Expand to broader populations | Regulatory approvals, interoperability interfaces, training for clinicians | Scalable, compliant agentic AI system |\n",
      "| 5. Continuous Learning & Improvement | Implement feedback mechanisms and continual model updates | Outcome tracking, patient and clinician feedback, model retraining | Improved efficacy, personalized adaptations |\n",
      "\n",
      "---\n",
      "\n",
      "### 4. Potential Challenges & Mitigations\n",
      "\n",
      "| Challenge | Mitigation |\n",
      "|-|-|\n",
      "| Data Privacy & Security Risks | End-to-end encryption, anonymization, consent frameworks |\n",
      "| Clinical Acceptance | Transparent decision logic, clinician involvement, demonstrable outcomes |\n",
      "| Patient Trust & Usability | Clear communication, easy-to-use interfaces, opt-in controls |\n",
      "| Liability & Legal Issues | Clear protocols for escalation, insurance coverage, regulatory compliance |\n",
      "| Technical Reliability | Redundancy, fail-safe measures, rigorous testing |\n",
      "\n",
      "---\n",
      "\n",
      "If you provide a particular domain or pain point you want to focus on, I can help draft detailed technical architecture, user journeys, and prioritize features for an MVP (minimum viable product). Would you prefer to deep dive into one of the chronic diseases, or explore medication adherence as the initial use case?\n"
     ]
    }
   ],
   "source": [
    "messages = [{\"role\": \"user\", \"content\": \"Agentic AI solution for the pain point \" + pain_point}]\n",
    "\n",
    "response = openai.chat.completions.create(\n",
    "    model=\"gpt-4.1-mini\",\n",
    "    messages=messages\n",
    ")\n",
    "\n",
    "solution = response.choices[0].message.content\n",
    "print(solution)\n"
   ]
  },
  {
   "cell_type": "code",
   "execution_count": 31,
   "metadata": {},
   "outputs": [
    {
     "data": {
      "text/markdown": [
       "This is a very thoughtful and comprehensive outline of how agentic AI can revolutionize personalized healthcare management by autonomously driving better patient outcomes and operational efficiencies. I’d be happy to help you narrow down a specific high-impact use case or help design a deployment roadmap. Here are a few suggestions on next steps and how to focus your efforts:\n",
       "\n",
       "---\n",
       "\n",
       "### 1. Narrowing Down Use Cases\n",
       "\n",
       "**Option A: Focus on a Single Disease Domain**  \n",
       "- *Example*: Diabetes Care or Cardiovascular Disease Management  \n",
       "- Why: High prevalence, existing data ecosystem (wearables, glucose monitors, ECGs), clear outcomes to optimize (blood sugar, heart failure risk).  \n",
       "- Establishes a proof of concept with measurable impact on quality of life and healthcare costs.\n",
       "\n",
       "**Option B: Medication Adherence & Management Across Conditions**  \n",
       "- Why: Medication non-adherence is a widespread issue leading to poor outcomes. Agentic AI managing prescriptions, reminders, and alerts can have broad applicability and scalable impact.\n",
       "\n",
       "**Option C: Post-Operative Monitoring**  \n",
       "- Why: High risk of complications, straightforward monitoring parameters, significant cost savings through reduced readmissions.\n",
       "\n",
       "---\n",
       "\n",
       "### 2. Key Considerations for Implementation\n",
       "\n",
       "- **Data Integration**: Securely integrating multi-modal data sources (wearables, EHRs, labs) for holistic context.  \n",
       "- **Regulatory & Ethical Compliance**: Ensuring patient data privacy and safety, explainability of AI decisions, and adherence to healthcare standards (HIPAA, FDA, etc.).  \n",
       "- **Human-in-the-loop Model**: Determine when and how agentic AI escalates complex decisions to clinicians, balancing automation with oversight.  \n",
       "- **Interoperability**: Seamless communication between AI agents, providers, pharmacies, and patients.  \n",
       "- **Patient Engagement**: Designing intuitive and trust-building patient interfaces to improve adherence and data quality.\n",
       "\n",
       "---\n",
       "\n",
       "### 3. Roadmap Example for Diabetes Agentic AI\n",
       "\n",
       "| Phase | Goal | Activities | Outputs |\n",
       "|-|-|-|-|\n",
       "| 1. Discovery & Data Collection | Understand patient journeys and gather datasets | Partnerships with clinics, collect wearable, insulin, diet, and exercise data | Annotated datasets, patient personas |\n",
       "| 2. Model Development & Simulation | Build predictive models for glucose control, hypoglycemia, and behavioral nudges | Develop reinforcement learning or adaptive control algorithms | Prototype agentic AI models |\n",
       "| 3. Pilot Deployment | Deploy in small patient cohorts for real-time glucose management and insulin recommendations | Remote monitoring, feedback loops with clinicians | Evidence of safety, improved glucose control, patient satisfaction |\n",
       "| 4. Scaling & Integration | Integrate with EHR, pharmacy systems; Expand to broader populations | Regulatory approvals, interoperability interfaces, training for clinicians | Scalable, compliant agentic AI system |\n",
       "| 5. Continuous Learning & Improvement | Implement feedback mechanisms and continual model updates | Outcome tracking, patient and clinician feedback, model retraining | Improved efficacy, personalized adaptations |\n",
       "\n",
       "---\n",
       "\n",
       "### 4. Potential Challenges & Mitigations\n",
       "\n",
       "| Challenge | Mitigation |\n",
       "|-|-|\n",
       "| Data Privacy & Security Risks | End-to-end encryption, anonymization, consent frameworks |\n",
       "| Clinical Acceptance | Transparent decision logic, clinician involvement, demonstrable outcomes |\n",
       "| Patient Trust & Usability | Clear communication, easy-to-use interfaces, opt-in controls |\n",
       "| Liability & Legal Issues | Clear protocols for escalation, insurance coverage, regulatory compliance |\n",
       "| Technical Reliability | Redundancy, fail-safe measures, rigorous testing |\n",
       "\n",
       "---\n",
       "\n",
       "If you provide a particular domain or pain point you want to focus on, I can help draft detailed technical architecture, user journeys, and prioritize features for an MVP (minimum viable product). Would you prefer to deep dive into one of the chronic diseases, or explore medication adherence as the initial use case?"
      ],
      "text/plain": [
       "<IPython.core.display.Markdown object>"
      ]
     },
     "metadata": {},
     "output_type": "display_data"
    }
   ],
   "source": [
    "from IPython.display import Markdown, display\n",
    "display(Markdown(solution))"
   ]
  },
  {
   "cell_type": "code",
   "execution_count": null,
   "metadata": {},
   "outputs": [],
   "source": []
  },
  {
   "cell_type": "markdown",
   "metadata": {},
   "source": []
  }
 ],
 "metadata": {
  "kernelspec": {
   "display_name": ".venv",
   "language": "python",
   "name": "python3"
  },
  "language_info": {
   "codemirror_mode": {
    "name": "ipython",
    "version": 3
   },
   "file_extension": ".py",
   "mimetype": "text/x-python",
   "name": "python",
   "nbconvert_exporter": "python",
   "pygments_lexer": "ipython3",
   "version": "3.12.10"
  }
 },
 "nbformat": 4,
 "nbformat_minor": 2
}
